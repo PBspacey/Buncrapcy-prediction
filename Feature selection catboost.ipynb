{
 "cells": [
  {
   "cell_type": "code",
   "execution_count": 23,
   "metadata": {},
   "outputs": [],
   "source": [
    "import pandas as pd\n",
    "import numpy as np \n",
    "from matplotlib import pyplot as plt \n",
    "from sklearn.model_selection import KFold, train_test_split\n",
    "from sklearn.metrics import roc_auc_score\n",
    "from sklearn.ensemble import RandomForestClassifier\n",
    "from catboost import CatBoostClassifier, Pool\n",
    "from catboost.utils import get_roc_curve\n",
    "import sklearn\n",
    "\n",
    "pd.pandas.set_option('display.max_columns', None)"
   ]
  },
  {
   "cell_type": "code",
   "execution_count": 24,
   "metadata": {},
   "outputs": [],
   "source": [
    "train = pd.read_csv(\"train.csv\")\n",
    "test = pd.read_csv(\"test.csv\")\n"
   ]
  },
  {
   "cell_type": "code",
   "execution_count": 25,
   "metadata": {},
   "outputs": [
    {
     "data": {
      "text/plain": [
       "0    730141\n",
       "1      3130\n",
       "Name: BANKR, dtype: int64"
      ]
     },
     "execution_count": 25,
     "metadata": {},
     "output_type": "execute_result"
    }
   ],
   "source": [
    "train['BANKR'].value_counts()\n"
   ]
  },
  {
   "cell_type": "code",
   "execution_count": 26,
   "metadata": {},
   "outputs": [
    {
     "data": {
      "text/html": [
       "<div>\n",
       "<style scoped>\n",
       "    .dataframe tbody tr th:only-of-type {\n",
       "        vertical-align: middle;\n",
       "    }\n",
       "\n",
       "    .dataframe tbody tr th {\n",
       "        vertical-align: top;\n",
       "    }\n",
       "\n",
       "    .dataframe thead th {\n",
       "        text-align: right;\n",
       "    }\n",
       "</style>\n",
       "<table border=\"1\" class=\"dataframe\">\n",
       "  <thead>\n",
       "    <tr style=\"text-align: right;\">\n",
       "      <th></th>\n",
       "      <th>ID_FIRM</th>\n",
       "      <th>P1110_B</th>\n",
       "      <th>P1110_E</th>\n",
       "      <th>P1120_B</th>\n",
       "      <th>P1120_E</th>\n",
       "      <th>P1130_B</th>\n",
       "      <th>P1130_E</th>\n",
       "      <th>P1140_B</th>\n",
       "      <th>P1140_E</th>\n",
       "      <th>P1150_B</th>\n",
       "      <th>P1150_E</th>\n",
       "      <th>P1160_B</th>\n",
       "      <th>P1160_E</th>\n",
       "      <th>P1170_B</th>\n",
       "      <th>P1170_E</th>\n",
       "      <th>P1180_B</th>\n",
       "      <th>P1180_E</th>\n",
       "      <th>P1190_B</th>\n",
       "      <th>P1190_E</th>\n",
       "      <th>P1100_B</th>\n",
       "      <th>P1100_E</th>\n",
       "      <th>P1210_B</th>\n",
       "      <th>P1210_E</th>\n",
       "      <th>P1220_B</th>\n",
       "      <th>P1220_E</th>\n",
       "      <th>P1230_B</th>\n",
       "      <th>P1230_E</th>\n",
       "      <th>P1240_B</th>\n",
       "      <th>P1240_E</th>\n",
       "      <th>P1250_B</th>\n",
       "      <th>P1250_E</th>\n",
       "      <th>P1260_B</th>\n",
       "      <th>P1260_E</th>\n",
       "      <th>P1200_B</th>\n",
       "      <th>P1200_E</th>\n",
       "      <th>P1600_B</th>\n",
       "      <th>P1600_E</th>\n",
       "      <th>P1310_B</th>\n",
       "      <th>P1310_E</th>\n",
       "      <th>P1320_B</th>\n",
       "      <th>P1320_E</th>\n",
       "      <th>P1340_B</th>\n",
       "      <th>P1340_E</th>\n",
       "      <th>P1350_B</th>\n",
       "      <th>P1350_E</th>\n",
       "      <th>P1360_B</th>\n",
       "      <th>P1360_E</th>\n",
       "      <th>P1370_B</th>\n",
       "      <th>P1370_E</th>\n",
       "      <th>P1300_B</th>\n",
       "      <th>P1300_E</th>\n",
       "      <th>P1410_B</th>\n",
       "      <th>P1410_E</th>\n",
       "      <th>P1420_B</th>\n",
       "      <th>P1420_E</th>\n",
       "      <th>P1430_B</th>\n",
       "      <th>P1430_E</th>\n",
       "      <th>P1450_B</th>\n",
       "      <th>P1450_E</th>\n",
       "      <th>P1400_B</th>\n",
       "      <th>P1400_E</th>\n",
       "      <th>P1510_B</th>\n",
       "      <th>P1510_E</th>\n",
       "      <th>P1520_B</th>\n",
       "      <th>P1520_E</th>\n",
       "      <th>P1530_B</th>\n",
       "      <th>P1530_E</th>\n",
       "      <th>P1540_B</th>\n",
       "      <th>P1540_E</th>\n",
       "      <th>P1550_B</th>\n",
       "      <th>P1550_E</th>\n",
       "      <th>P1500_B</th>\n",
       "      <th>P1500_E</th>\n",
       "      <th>P1700_B</th>\n",
       "      <th>P1700_E</th>\n",
       "      <th>P2110_B</th>\n",
       "      <th>P2110_E</th>\n",
       "      <th>P2120_B</th>\n",
       "      <th>P2120_E</th>\n",
       "      <th>P2100_B</th>\n",
       "      <th>P2100_E</th>\n",
       "      <th>P2210_B</th>\n",
       "      <th>P2210_E</th>\n",
       "      <th>P2220_B</th>\n",
       "      <th>P2220_E</th>\n",
       "      <th>P2200_B</th>\n",
       "      <th>P2200_E</th>\n",
       "      <th>P2310_B</th>\n",
       "      <th>P2310_E</th>\n",
       "      <th>P2320_B</th>\n",
       "      <th>P2320_E</th>\n",
       "      <th>P2330_B</th>\n",
       "      <th>P2330_E</th>\n",
       "      <th>P2340_B</th>\n",
       "      <th>P2340_E</th>\n",
       "      <th>P2350_B</th>\n",
       "      <th>P2350_E</th>\n",
       "      <th>P2300_B</th>\n",
       "      <th>P2300_E</th>\n",
       "      <th>P2410_B</th>\n",
       "      <th>P2410_E</th>\n",
       "      <th>P2421_B</th>\n",
       "      <th>P2421_E</th>\n",
       "      <th>P2430_B</th>\n",
       "      <th>P2430_E</th>\n",
       "      <th>P2450_B</th>\n",
       "      <th>P2450_E</th>\n",
       "      <th>P2460_B</th>\n",
       "      <th>P2460_E</th>\n",
       "      <th>P2400_B</th>\n",
       "      <th>P2400_E</th>\n",
       "      <th>BANKR</th>\n",
       "    </tr>\n",
       "  </thead>\n",
       "  <tbody>\n",
       "    <tr>\n",
       "      <th>0</th>\n",
       "      <td>1</td>\n",
       "      <td>8</td>\n",
       "      <td>7</td>\n",
       "      <td>0</td>\n",
       "      <td>0</td>\n",
       "      <td>0</td>\n",
       "      <td>0</td>\n",
       "      <td>0</td>\n",
       "      <td>0</td>\n",
       "      <td>402</td>\n",
       "      <td>398.0</td>\n",
       "      <td>0</td>\n",
       "      <td>0</td>\n",
       "      <td>115</td>\n",
       "      <td>96</td>\n",
       "      <td>0</td>\n",
       "      <td>0</td>\n",
       "      <td>0</td>\n",
       "      <td>0</td>\n",
       "      <td>525</td>\n",
       "      <td>501.0</td>\n",
       "      <td>2</td>\n",
       "      <td>2</td>\n",
       "      <td>0</td>\n",
       "      <td>0</td>\n",
       "      <td>3640.0</td>\n",
       "      <td>2174.0</td>\n",
       "      <td>28672</td>\n",
       "      <td>26515</td>\n",
       "      <td>2117</td>\n",
       "      <td>1694</td>\n",
       "      <td>89</td>\n",
       "      <td>155</td>\n",
       "      <td>34520.0</td>\n",
       "      <td>30540</td>\n",
       "      <td>35045</td>\n",
       "      <td>31041</td>\n",
       "      <td>785.0</td>\n",
       "      <td>785.0</td>\n",
       "      <td>0</td>\n",
       "      <td>0</td>\n",
       "      <td>0</td>\n",
       "      <td>0</td>\n",
       "      <td>13770</td>\n",
       "      <td>13770</td>\n",
       "      <td>114</td>\n",
       "      <td>114</td>\n",
       "      <td>19949</td>\n",
       "      <td>16589.0</td>\n",
       "      <td>34618</td>\n",
       "      <td>31258</td>\n",
       "      <td>0</td>\n",
       "      <td>0</td>\n",
       "      <td>0</td>\n",
       "      <td>0</td>\n",
       "      <td>0</td>\n",
       "      <td>0</td>\n",
       "      <td>0</td>\n",
       "      <td>0.0</td>\n",
       "      <td>0</td>\n",
       "      <td>0.0</td>\n",
       "      <td>0.0</td>\n",
       "      <td>0</td>\n",
       "      <td>824</td>\n",
       "      <td>5.0</td>\n",
       "      <td>0</td>\n",
       "      <td>0</td>\n",
       "      <td>0</td>\n",
       "      <td>0</td>\n",
       "      <td>0</td>\n",
       "      <td>0</td>\n",
       "      <td>824</td>\n",
       "      <td>5</td>\n",
       "      <td>35442.0</td>\n",
       "      <td>31263.0</td>\n",
       "      <td>14702.0</td>\n",
       "      <td>14581.0</td>\n",
       "      <td>0</td>\n",
       "      <td>0.0</td>\n",
       "      <td>14702</td>\n",
       "      <td>14581</td>\n",
       "      <td>5256</td>\n",
       "      <td>5513</td>\n",
       "      <td>24917</td>\n",
       "      <td>23451</td>\n",
       "      <td>-15471</td>\n",
       "      <td>-14383.0</td>\n",
       "      <td>19246</td>\n",
       "      <td>17024</td>\n",
       "      <td>2699</td>\n",
       "      <td>2517</td>\n",
       "      <td>0</td>\n",
       "      <td>0</td>\n",
       "      <td>49</td>\n",
       "      <td>3</td>\n",
       "      <td>4884</td>\n",
       "      <td>4460.0</td>\n",
       "      <td>1639</td>\n",
       "      <td>701</td>\n",
       "      <td>78</td>\n",
       "      <td>80</td>\n",
       "      <td>345</td>\n",
       "      <td>161</td>\n",
       "      <td>0</td>\n",
       "      <td>0</td>\n",
       "      <td>0</td>\n",
       "      <td>0</td>\n",
       "      <td>0</td>\n",
       "      <td>0</td>\n",
       "      <td>1561</td>\n",
       "      <td>621</td>\n",
       "      <td>0</td>\n",
       "    </tr>\n",
       "    <tr>\n",
       "      <th>488674</th>\n",
       "      <td>488675</td>\n",
       "      <td>0</td>\n",
       "      <td>0</td>\n",
       "      <td>0</td>\n",
       "      <td>0</td>\n",
       "      <td>0</td>\n",
       "      <td>0</td>\n",
       "      <td>0</td>\n",
       "      <td>0</td>\n",
       "      <td>0</td>\n",
       "      <td>0.0</td>\n",
       "      <td>0</td>\n",
       "      <td>0</td>\n",
       "      <td>0</td>\n",
       "      <td>0</td>\n",
       "      <td>82</td>\n",
       "      <td>82</td>\n",
       "      <td>0</td>\n",
       "      <td>0</td>\n",
       "      <td>82</td>\n",
       "      <td>82.0</td>\n",
       "      <td>13241</td>\n",
       "      <td>7548</td>\n",
       "      <td>0</td>\n",
       "      <td>119</td>\n",
       "      <td>81533.0</td>\n",
       "      <td>87271.0</td>\n",
       "      <td>0</td>\n",
       "      <td>0</td>\n",
       "      <td>7157</td>\n",
       "      <td>810</td>\n",
       "      <td>0</td>\n",
       "      <td>0</td>\n",
       "      <td>101931.0</td>\n",
       "      <td>95748</td>\n",
       "      <td>102013</td>\n",
       "      <td>95830</td>\n",
       "      <td>10.0</td>\n",
       "      <td>10.0</td>\n",
       "      <td>0</td>\n",
       "      <td>0</td>\n",
       "      <td>0</td>\n",
       "      <td>0</td>\n",
       "      <td>0</td>\n",
       "      <td>0</td>\n",
       "      <td>0</td>\n",
       "      <td>0</td>\n",
       "      <td>1038</td>\n",
       "      <td>1453.0</td>\n",
       "      <td>1048</td>\n",
       "      <td>1463</td>\n",
       "      <td>0</td>\n",
       "      <td>0</td>\n",
       "      <td>0</td>\n",
       "      <td>0</td>\n",
       "      <td>0</td>\n",
       "      <td>0</td>\n",
       "      <td>0</td>\n",
       "      <td>0.0</td>\n",
       "      <td>0</td>\n",
       "      <td>0.0</td>\n",
       "      <td>0.0</td>\n",
       "      <td>0</td>\n",
       "      <td>101513</td>\n",
       "      <td>95050.0</td>\n",
       "      <td>0</td>\n",
       "      <td>0</td>\n",
       "      <td>0</td>\n",
       "      <td>0</td>\n",
       "      <td>0</td>\n",
       "      <td>0</td>\n",
       "      <td>101513</td>\n",
       "      <td>95050</td>\n",
       "      <td>102561.0</td>\n",
       "      <td>96513.0</td>\n",
       "      <td>197949.0</td>\n",
       "      <td>164198.0</td>\n",
       "      <td>183792</td>\n",
       "      <td>160241.0</td>\n",
       "      <td>14157</td>\n",
       "      <td>3957</td>\n",
       "      <td>5619</td>\n",
       "      <td>4644</td>\n",
       "      <td>1132</td>\n",
       "      <td>1129</td>\n",
       "      <td>7406</td>\n",
       "      <td>-1816.0</td>\n",
       "      <td>0</td>\n",
       "      <td>0</td>\n",
       "      <td>0</td>\n",
       "      <td>0</td>\n",
       "      <td>0</td>\n",
       "      <td>0</td>\n",
       "      <td>16228</td>\n",
       "      <td>8859</td>\n",
       "      <td>15757</td>\n",
       "      <td>8933.0</td>\n",
       "      <td>7877</td>\n",
       "      <td>-1890</td>\n",
       "      <td>168</td>\n",
       "      <td>201</td>\n",
       "      <td>0</td>\n",
       "      <td>0</td>\n",
       "      <td>0</td>\n",
       "      <td>0</td>\n",
       "      <td>0</td>\n",
       "      <td>0</td>\n",
       "      <td>0</td>\n",
       "      <td>99</td>\n",
       "      <td>7709</td>\n",
       "      <td>-2190</td>\n",
       "      <td>0</td>\n",
       "    </tr>\n",
       "    <tr>\n",
       "      <th>488675</th>\n",
       "      <td>488676</td>\n",
       "      <td>0</td>\n",
       "      <td>0</td>\n",
       "      <td>0</td>\n",
       "      <td>0</td>\n",
       "      <td>0</td>\n",
       "      <td>0</td>\n",
       "      <td>0</td>\n",
       "      <td>0</td>\n",
       "      <td>0</td>\n",
       "      <td>0.0</td>\n",
       "      <td>0</td>\n",
       "      <td>0</td>\n",
       "      <td>0</td>\n",
       "      <td>0</td>\n",
       "      <td>218</td>\n",
       "      <td>390</td>\n",
       "      <td>0</td>\n",
       "      <td>0</td>\n",
       "      <td>218</td>\n",
       "      <td>390.0</td>\n",
       "      <td>141</td>\n",
       "      <td>0</td>\n",
       "      <td>0</td>\n",
       "      <td>0</td>\n",
       "      <td>785.0</td>\n",
       "      <td>2125.0</td>\n",
       "      <td>0</td>\n",
       "      <td>0</td>\n",
       "      <td>376</td>\n",
       "      <td>244</td>\n",
       "      <td>0</td>\n",
       "      <td>0</td>\n",
       "      <td>1302.0</td>\n",
       "      <td>2369</td>\n",
       "      <td>1520</td>\n",
       "      <td>2759</td>\n",
       "      <td>10.0</td>\n",
       "      <td>10.0</td>\n",
       "      <td>0</td>\n",
       "      <td>0</td>\n",
       "      <td>0</td>\n",
       "      <td>0</td>\n",
       "      <td>0</td>\n",
       "      <td>0</td>\n",
       "      <td>0</td>\n",
       "      <td>0</td>\n",
       "      <td>-885</td>\n",
       "      <td>-1521.0</td>\n",
       "      <td>-875</td>\n",
       "      <td>-1511</td>\n",
       "      <td>0</td>\n",
       "      <td>2236</td>\n",
       "      <td>0</td>\n",
       "      <td>0</td>\n",
       "      <td>0</td>\n",
       "      <td>0</td>\n",
       "      <td>0</td>\n",
       "      <td>0.0</td>\n",
       "      <td>0</td>\n",
       "      <td>2236.0</td>\n",
       "      <td>0.0</td>\n",
       "      <td>0</td>\n",
       "      <td>2398</td>\n",
       "      <td>2108.0</td>\n",
       "      <td>0</td>\n",
       "      <td>0</td>\n",
       "      <td>0</td>\n",
       "      <td>0</td>\n",
       "      <td>0</td>\n",
       "      <td>0</td>\n",
       "      <td>2398</td>\n",
       "      <td>2108</td>\n",
       "      <td>1523.0</td>\n",
       "      <td>2833.0</td>\n",
       "      <td>10986.0</td>\n",
       "      <td>14685.0</td>\n",
       "      <td>10805</td>\n",
       "      <td>15715.0</td>\n",
       "      <td>181</td>\n",
       "      <td>-1030</td>\n",
       "      <td>0</td>\n",
       "      <td>0</td>\n",
       "      <td>0</td>\n",
       "      <td>0</td>\n",
       "      <td>181</td>\n",
       "      <td>-1030.0</td>\n",
       "      <td>0</td>\n",
       "      <td>0</td>\n",
       "      <td>0</td>\n",
       "      <td>0</td>\n",
       "      <td>0</td>\n",
       "      <td>0</td>\n",
       "      <td>0</td>\n",
       "      <td>0</td>\n",
       "      <td>53</td>\n",
       "      <td>56.0</td>\n",
       "      <td>128</td>\n",
       "      <td>-1086</td>\n",
       "      <td>22</td>\n",
       "      <td>0</td>\n",
       "      <td>0</td>\n",
       "      <td>0</td>\n",
       "      <td>0</td>\n",
       "      <td>0</td>\n",
       "      <td>0</td>\n",
       "      <td>0</td>\n",
       "      <td>0</td>\n",
       "      <td>0</td>\n",
       "      <td>106</td>\n",
       "      <td>-1086</td>\n",
       "      <td>0</td>\n",
       "    </tr>\n",
       "    <tr>\n",
       "      <th>488676</th>\n",
       "      <td>488677</td>\n",
       "      <td>0</td>\n",
       "      <td>0</td>\n",
       "      <td>0</td>\n",
       "      <td>0</td>\n",
       "      <td>0</td>\n",
       "      <td>0</td>\n",
       "      <td>0</td>\n",
       "      <td>0</td>\n",
       "      <td>153</td>\n",
       "      <td>74.0</td>\n",
       "      <td>0</td>\n",
       "      <td>0</td>\n",
       "      <td>0</td>\n",
       "      <td>0</td>\n",
       "      <td>0</td>\n",
       "      <td>0</td>\n",
       "      <td>0</td>\n",
       "      <td>0</td>\n",
       "      <td>153</td>\n",
       "      <td>74.0</td>\n",
       "      <td>3049</td>\n",
       "      <td>3172</td>\n",
       "      <td>0</td>\n",
       "      <td>0</td>\n",
       "      <td>1862.0</td>\n",
       "      <td>3865.0</td>\n",
       "      <td>0</td>\n",
       "      <td>0</td>\n",
       "      <td>632</td>\n",
       "      <td>4389</td>\n",
       "      <td>133</td>\n",
       "      <td>127</td>\n",
       "      <td>5676.0</td>\n",
       "      <td>11553</td>\n",
       "      <td>5829</td>\n",
       "      <td>11627</td>\n",
       "      <td>13.0</td>\n",
       "      <td>13.0</td>\n",
       "      <td>0</td>\n",
       "      <td>0</td>\n",
       "      <td>0</td>\n",
       "      <td>0</td>\n",
       "      <td>0</td>\n",
       "      <td>0</td>\n",
       "      <td>0</td>\n",
       "      <td>0</td>\n",
       "      <td>-5591</td>\n",
       "      <td>-5360.0</td>\n",
       "      <td>-5578</td>\n",
       "      <td>-5347</td>\n",
       "      <td>0</td>\n",
       "      <td>0</td>\n",
       "      <td>0</td>\n",
       "      <td>0</td>\n",
       "      <td>0</td>\n",
       "      <td>0</td>\n",
       "      <td>0</td>\n",
       "      <td>0.0</td>\n",
       "      <td>0</td>\n",
       "      <td>0.0</td>\n",
       "      <td>5.0</td>\n",
       "      <td>5</td>\n",
       "      <td>11274</td>\n",
       "      <td>16796.0</td>\n",
       "      <td>0</td>\n",
       "      <td>0</td>\n",
       "      <td>0</td>\n",
       "      <td>608</td>\n",
       "      <td>0</td>\n",
       "      <td>0</td>\n",
       "      <td>11279</td>\n",
       "      <td>17409</td>\n",
       "      <td>5701.0</td>\n",
       "      <td>12062.0</td>\n",
       "      <td>112049.0</td>\n",
       "      <td>111150.0</td>\n",
       "      <td>105555</td>\n",
       "      <td>102749.0</td>\n",
       "      <td>6494</td>\n",
       "      <td>8401</td>\n",
       "      <td>0</td>\n",
       "      <td>0</td>\n",
       "      <td>8040</td>\n",
       "      <td>13058</td>\n",
       "      <td>-1546</td>\n",
       "      <td>-4657.0</td>\n",
       "      <td>0</td>\n",
       "      <td>0</td>\n",
       "      <td>0</td>\n",
       "      <td>0</td>\n",
       "      <td>0</td>\n",
       "      <td>0</td>\n",
       "      <td>134</td>\n",
       "      <td>10</td>\n",
       "      <td>266</td>\n",
       "      <td>153.0</td>\n",
       "      <td>-1678</td>\n",
       "      <td>-4800</td>\n",
       "      <td>76</td>\n",
       "      <td>42</td>\n",
       "      <td>0</td>\n",
       "      <td>-1</td>\n",
       "      <td>0</td>\n",
       "      <td>0</td>\n",
       "      <td>0</td>\n",
       "      <td>0</td>\n",
       "      <td>0</td>\n",
       "      <td>0</td>\n",
       "      <td>-1754</td>\n",
       "      <td>-4842</td>\n",
       "      <td>0</td>\n",
       "    </tr>\n",
       "    <tr>\n",
       "      <th>488677</th>\n",
       "      <td>488678</td>\n",
       "      <td>0</td>\n",
       "      <td>0</td>\n",
       "      <td>0</td>\n",
       "      <td>0</td>\n",
       "      <td>0</td>\n",
       "      <td>0</td>\n",
       "      <td>0</td>\n",
       "      <td>0</td>\n",
       "      <td>130</td>\n",
       "      <td>96.0</td>\n",
       "      <td>0</td>\n",
       "      <td>0</td>\n",
       "      <td>0</td>\n",
       "      <td>0</td>\n",
       "      <td>0</td>\n",
       "      <td>0</td>\n",
       "      <td>0</td>\n",
       "      <td>0</td>\n",
       "      <td>130</td>\n",
       "      <td>96.0</td>\n",
       "      <td>0</td>\n",
       "      <td>2</td>\n",
       "      <td>0</td>\n",
       "      <td>0</td>\n",
       "      <td>13654.0</td>\n",
       "      <td>11293.0</td>\n",
       "      <td>0</td>\n",
       "      <td>0</td>\n",
       "      <td>22</td>\n",
       "      <td>1580</td>\n",
       "      <td>0</td>\n",
       "      <td>0</td>\n",
       "      <td>13676.0</td>\n",
       "      <td>12875</td>\n",
       "      <td>13806</td>\n",
       "      <td>12971</td>\n",
       "      <td>0.0</td>\n",
       "      <td>0.0</td>\n",
       "      <td>0</td>\n",
       "      <td>0</td>\n",
       "      <td>0</td>\n",
       "      <td>0</td>\n",
       "      <td>0</td>\n",
       "      <td>0</td>\n",
       "      <td>0</td>\n",
       "      <td>0</td>\n",
       "      <td>0</td>\n",
       "      <td>0.0</td>\n",
       "      <td>0</td>\n",
       "      <td>0</td>\n",
       "      <td>0</td>\n",
       "      <td>0</td>\n",
       "      <td>0</td>\n",
       "      <td>0</td>\n",
       "      <td>0</td>\n",
       "      <td>0</td>\n",
       "      <td>0</td>\n",
       "      <td>0.0</td>\n",
       "      <td>0</td>\n",
       "      <td>0.0</td>\n",
       "      <td>1304.0</td>\n",
       "      <td>0</td>\n",
       "      <td>11795</td>\n",
       "      <td>11539.0</td>\n",
       "      <td>0</td>\n",
       "      <td>0</td>\n",
       "      <td>0</td>\n",
       "      <td>0</td>\n",
       "      <td>0</td>\n",
       "      <td>0</td>\n",
       "      <td>13099</td>\n",
       "      <td>11539</td>\n",
       "      <td>13099.0</td>\n",
       "      <td>11539.0</td>\n",
       "      <td>74446.0</td>\n",
       "      <td>118848.0</td>\n",
       "      <td>73746</td>\n",
       "      <td>122461.0</td>\n",
       "      <td>700</td>\n",
       "      <td>-3613</td>\n",
       "      <td>0</td>\n",
       "      <td>0</td>\n",
       "      <td>0</td>\n",
       "      <td>0</td>\n",
       "      <td>700</td>\n",
       "      <td>-3613.0</td>\n",
       "      <td>0</td>\n",
       "      <td>0</td>\n",
       "      <td>0</td>\n",
       "      <td>0</td>\n",
       "      <td>125</td>\n",
       "      <td>40</td>\n",
       "      <td>0</td>\n",
       "      <td>0</td>\n",
       "      <td>181</td>\n",
       "      <td>122.0</td>\n",
       "      <td>394</td>\n",
       "      <td>-3775</td>\n",
       "      <td>31</td>\n",
       "      <td>113</td>\n",
       "      <td>0</td>\n",
       "      <td>0</td>\n",
       "      <td>0</td>\n",
       "      <td>0</td>\n",
       "      <td>0</td>\n",
       "      <td>0</td>\n",
       "      <td>0</td>\n",
       "      <td>0</td>\n",
       "      <td>363</td>\n",
       "      <td>-3888</td>\n",
       "      <td>0</td>\n",
       "    </tr>\n",
       "  </tbody>\n",
       "</table>\n",
       "</div>"
      ],
      "text/plain": [
       "        ID_FIRM  P1110_B  P1110_E  P1120_B  P1120_E  P1130_B  P1130_E  \\\n",
       "0             1        8        7        0        0        0        0   \n",
       "488674   488675        0        0        0        0        0        0   \n",
       "488675   488676        0        0        0        0        0        0   \n",
       "488676   488677        0        0        0        0        0        0   \n",
       "488677   488678        0        0        0        0        0        0   \n",
       "\n",
       "        P1140_B  P1140_E  P1150_B  P1150_E  P1160_B  P1160_E  P1170_B  \\\n",
       "0             0        0      402    398.0        0        0      115   \n",
       "488674        0        0        0      0.0        0        0        0   \n",
       "488675        0        0        0      0.0        0        0        0   \n",
       "488676        0        0      153     74.0        0        0        0   \n",
       "488677        0        0      130     96.0        0        0        0   \n",
       "\n",
       "        P1170_E  P1180_B  P1180_E  P1190_B  P1190_E  P1100_B  P1100_E  \\\n",
       "0            96        0        0        0        0      525    501.0   \n",
       "488674        0       82       82        0        0       82     82.0   \n",
       "488675        0      218      390        0        0      218    390.0   \n",
       "488676        0        0        0        0        0      153     74.0   \n",
       "488677        0        0        0        0        0      130     96.0   \n",
       "\n",
       "        P1210_B  P1210_E  P1220_B  P1220_E  P1230_B  P1230_E  P1240_B  \\\n",
       "0             2        2        0        0   3640.0   2174.0    28672   \n",
       "488674    13241     7548        0      119  81533.0  87271.0        0   \n",
       "488675      141        0        0        0    785.0   2125.0        0   \n",
       "488676     3049     3172        0        0   1862.0   3865.0        0   \n",
       "488677        0        2        0        0  13654.0  11293.0        0   \n",
       "\n",
       "        P1240_E  P1250_B  P1250_E  P1260_B  P1260_E   P1200_B  P1200_E  \\\n",
       "0         26515     2117     1694       89      155   34520.0    30540   \n",
       "488674        0     7157      810        0        0  101931.0    95748   \n",
       "488675        0      376      244        0        0    1302.0     2369   \n",
       "488676        0      632     4389      133      127    5676.0    11553   \n",
       "488677        0       22     1580        0        0   13676.0    12875   \n",
       "\n",
       "        P1600_B  P1600_E  P1310_B  P1310_E  P1320_B  P1320_E  P1340_B  \\\n",
       "0         35045    31041    785.0    785.0        0        0        0   \n",
       "488674   102013    95830     10.0     10.0        0        0        0   \n",
       "488675     1520     2759     10.0     10.0        0        0        0   \n",
       "488676     5829    11627     13.0     13.0        0        0        0   \n",
       "488677    13806    12971      0.0      0.0        0        0        0   \n",
       "\n",
       "        P1340_E  P1350_B  P1350_E  P1360_B  P1360_E  P1370_B  P1370_E  \\\n",
       "0             0    13770    13770      114      114    19949  16589.0   \n",
       "488674        0        0        0        0        0     1038   1453.0   \n",
       "488675        0        0        0        0        0     -885  -1521.0   \n",
       "488676        0        0        0        0        0    -5591  -5360.0   \n",
       "488677        0        0        0        0        0        0      0.0   \n",
       "\n",
       "        P1300_B  P1300_E  P1410_B  P1410_E  P1420_B  P1420_E  P1430_B  \\\n",
       "0         34618    31258        0        0        0        0        0   \n",
       "488674     1048     1463        0        0        0        0        0   \n",
       "488675     -875    -1511        0     2236        0        0        0   \n",
       "488676    -5578    -5347        0        0        0        0        0   \n",
       "488677        0        0        0        0        0        0        0   \n",
       "\n",
       "        P1430_E  P1450_B  P1450_E  P1400_B  P1400_E  P1510_B  P1510_E  \\\n",
       "0             0        0      0.0        0      0.0      0.0        0   \n",
       "488674        0        0      0.0        0      0.0      0.0        0   \n",
       "488675        0        0      0.0        0   2236.0      0.0        0   \n",
       "488676        0        0      0.0        0      0.0      5.0        5   \n",
       "488677        0        0      0.0        0      0.0   1304.0        0   \n",
       "\n",
       "        P1520_B  P1520_E  P1530_B  P1530_E  P1540_B  P1540_E  P1550_B  \\\n",
       "0           824      5.0        0        0        0        0        0   \n",
       "488674   101513  95050.0        0        0        0        0        0   \n",
       "488675     2398   2108.0        0        0        0        0        0   \n",
       "488676    11274  16796.0        0        0        0      608        0   \n",
       "488677    11795  11539.0        0        0        0        0        0   \n",
       "\n",
       "        P1550_E  P1500_B  P1500_E   P1700_B  P1700_E   P2110_B   P2110_E  \\\n",
       "0             0      824        5   35442.0  31263.0   14702.0   14581.0   \n",
       "488674        0   101513    95050  102561.0  96513.0  197949.0  164198.0   \n",
       "488675        0     2398     2108    1523.0   2833.0   10986.0   14685.0   \n",
       "488676        0    11279    17409    5701.0  12062.0  112049.0  111150.0   \n",
       "488677        0    13099    11539   13099.0  11539.0   74446.0  118848.0   \n",
       "\n",
       "        P2120_B   P2120_E  P2100_B  P2100_E  P2210_B  P2210_E  P2220_B  \\\n",
       "0             0       0.0    14702    14581     5256     5513    24917   \n",
       "488674   183792  160241.0    14157     3957     5619     4644     1132   \n",
       "488675    10805   15715.0      181    -1030        0        0        0   \n",
       "488676   105555  102749.0     6494     8401        0        0     8040   \n",
       "488677    73746  122461.0      700    -3613        0        0        0   \n",
       "\n",
       "        P2220_E  P2200_B  P2200_E  P2310_B  P2310_E  P2320_B  P2320_E  \\\n",
       "0         23451   -15471 -14383.0    19246    17024     2699     2517   \n",
       "488674     1129     7406  -1816.0        0        0        0        0   \n",
       "488675        0      181  -1030.0        0        0        0        0   \n",
       "488676    13058    -1546  -4657.0        0        0        0        0   \n",
       "488677        0      700  -3613.0        0        0        0        0   \n",
       "\n",
       "        P2330_B  P2330_E  P2340_B  P2340_E  P2350_B  P2350_E  P2300_B  \\\n",
       "0             0        0       49        3     4884   4460.0     1639   \n",
       "488674        0        0    16228     8859    15757   8933.0     7877   \n",
       "488675        0        0        0        0       53     56.0      128   \n",
       "488676        0        0      134       10      266    153.0    -1678   \n",
       "488677      125       40        0        0      181    122.0      394   \n",
       "\n",
       "        P2300_E  P2410_B  P2410_E  P2421_B  P2421_E  P2430_B  P2430_E  \\\n",
       "0           701       78       80      345      161        0        0   \n",
       "488674    -1890      168      201        0        0        0        0   \n",
       "488675    -1086       22        0        0        0        0        0   \n",
       "488676    -4800       76       42        0       -1        0        0   \n",
       "488677    -3775       31      113        0        0        0        0   \n",
       "\n",
       "        P2450_B  P2450_E  P2460_B  P2460_E  P2400_B  P2400_E  BANKR  \n",
       "0             0        0        0        0     1561      621      0  \n",
       "488674        0        0        0       99     7709    -2190      0  \n",
       "488675        0        0        0        0      106    -1086      0  \n",
       "488676        0        0        0        0    -1754    -4842      0  \n",
       "488677        0        0        0        0      363    -3888      0  "
      ]
     },
     "execution_count": 26,
     "metadata": {},
     "output_type": "execute_result"
    }
   ],
   "source": [
    "train = train.sort_values('BANKR')\n",
    "train.head(5)"
   ]
  },
  {
   "cell_type": "code",
   "execution_count": 27,
   "metadata": {},
   "outputs": [],
   "source": [
    "small_train = train[-1*int(3130*2.5):]"
   ]
  },
  {
   "cell_type": "code",
   "execution_count": 28,
   "metadata": {},
   "outputs": [
    {
     "data": {
      "text/plain": [
       "0    4695\n",
       "1    3130\n",
       "Name: BANKR, dtype: int64"
      ]
     },
     "execution_count": 28,
     "metadata": {},
     "output_type": "execute_result"
    }
   ],
   "source": [
    "small_train['BANKR'].value_counts()"
   ]
  },
  {
   "cell_type": "code",
   "execution_count": 29,
   "metadata": {},
   "outputs": [],
   "source": [
    "X_small = small_train.drop([\"BANKR\", \"ID_FIRM\"], axis=1).fillna(0)\n",
    "Y_small = small_train['BANKR']"
   ]
  },
  {
   "cell_type": "code",
   "execution_count": 30,
   "metadata": {},
   "outputs": [],
   "source": [
    "X_train, X_val, y_train, y_val = train_test_split(X_small, Y_small, train_size=0.8, random_state=42)"
   ]
  },
  {
   "cell_type": "code",
   "execution_count": 31,
   "metadata": {},
   "outputs": [],
   "source": [
    "model=CatBoostClassifier(\n",
    "    eval_metric='BalancedAccuracy',\n",
    "    # scale_pos_weight=233.27,\n",
    "    iterations=300,\n",
    "    learning_rate=0.3,\n",
    "    # early_stopping_rounds=20,\n",
    "    random_seed=63)"
   ]
  },
  {
   "cell_type": "code",
   "execution_count": 32,
   "metadata": {},
   "outputs": [],
   "source": [
    "model2=CatBoostClassifier()"
   ]
  },
  {
   "cell_type": "code",
   "execution_count": 33,
   "metadata": {},
   "outputs": [],
   "source": [
    "sel_feat =[]\n",
    "for feature in X_train:\n",
    "    sel_feat.append(feature)"
   ]
  },
  {
   "cell_type": "code",
   "execution_count": 34,
   "metadata": {},
   "outputs": [
    {
     "data": {
      "application/vnd.jupyter.widget-view+json": {
       "model_id": "6f1fcdb6524746979730cf4673c269ed",
       "version_major": 2,
       "version_minor": 0
      },
      "text/plain": [
       "MetricVisualizer(layout=Layout(align_self='stretch', height='500px'))"
      ]
     },
     "metadata": {},
     "output_type": "display_data"
    },
    {
     "name": "stdout",
     "output_type": "stream",
     "text": [
      "Step #1 out of 1\n",
      "0:\tlearn: 0.7928856\ttest: 0.7935125\tbest: 0.7935125 (0)\ttotal: 13.8ms\tremaining: 4.14s\n",
      "1:\tlearn: 0.7985577\ttest: 0.7955845\tbest: 0.7955845 (1)\ttotal: 19.5ms\tremaining: 2.91s\n",
      "2:\tlearn: 0.8024891\ttest: 0.7974359\tbest: 0.7974359 (2)\ttotal: 24.5ms\tremaining: 2.42s\n",
      "3:\tlearn: 0.8122674\ttest: 0.8059540\tbest: 0.8059540 (3)\ttotal: 31ms\tremaining: 2.29s\n",
      "4:\tlearn: 0.8210500\ttest: 0.8078437\tbest: 0.8078437 (4)\ttotal: 35.8ms\tremaining: 2.11s\n",
      "5:\tlearn: 0.8235781\ttest: 0.8123745\tbest: 0.8123745 (5)\ttotal: 40.7ms\tremaining: 1.99s\n",
      "6:\tlearn: 0.8254425\ttest: 0.8163746\tbest: 0.8163746 (6)\ttotal: 47.1ms\tremaining: 1.97s\n",
      "7:\tlearn: 0.8273060\ttest: 0.8235977\tbest: 0.8235977 (7)\ttotal: 53.9ms\tremaining: 1.97s\n",
      "8:\tlearn: 0.8280376\ttest: 0.8195849\tbest: 0.8235977 (7)\ttotal: 61.4ms\tremaining: 1.99s\n",
      "9:\tlearn: 0.8334257\ttest: 0.8217208\tbest: 0.8235977 (7)\ttotal: 66.4ms\tremaining: 1.93s\n",
      "10:\tlearn: 0.8388784\ttest: 0.8233259\tbest: 0.8235977 (7)\ttotal: 71.4ms\tremaining: 1.87s\n",
      "11:\tlearn: 0.8397432\ttest: 0.8284004\tbest: 0.8284004 (11)\ttotal: 77.4ms\tremaining: 1.86s\n",
      "12:\tlearn: 0.8435350\ttest: 0.8302773\tbest: 0.8302773 (12)\ttotal: 82.2ms\tremaining: 1.81s\n",
      "13:\tlearn: 0.8470611\ttest: 0.8302773\tbest: 0.8302773 (12)\ttotal: 88.1ms\tremaining: 1.8s\n",
      "14:\tlearn: 0.8471289\ttest: 0.8308208\tbest: 0.8308208 (14)\ttotal: 94.1ms\tremaining: 1.79s\n",
      "15:\tlearn: 0.8473970\ttest: 0.8313516\tbest: 0.8313516 (15)\ttotal: 99ms\tremaining: 1.76s\n",
      "16:\tlearn: 0.8522522\ttest: 0.8332158\tbest: 0.8332158 (16)\ttotal: 104ms\tremaining: 1.73s\n",
      "17:\tlearn: 0.8569087\ttest: 0.8310798\tbest: 0.8332158 (16)\ttotal: 109ms\tremaining: 1.7s\n",
      "18:\tlearn: 0.8581716\ttest: 0.8324132\tbest: 0.8332158 (16)\ttotal: 114ms\tremaining: 1.68s\n",
      "19:\tlearn: 0.8608305\ttest: 0.8321414\tbest: 0.8332158 (16)\ttotal: 119ms\tremaining: 1.67s\n",
      "20:\tlearn: 0.8622952\ttest: 0.8313388\tbest: 0.8332158 (16)\ttotal: 124ms\tremaining: 1.65s\n",
      "21:\tlearn: 0.8642258\ttest: 0.8348209\tbest: 0.8348209 (21)\ttotal: 130ms\tremaining: 1.64s\n",
      "22:\tlearn: 0.8676187\ttest: 0.8356235\tbest: 0.8356235 (22)\ttotal: 136ms\tremaining: 1.63s\n",
      "23:\tlearn: 0.8697464\ttest: 0.8350927\tbest: 0.8356235 (22)\ttotal: 141ms\tremaining: 1.62s\n",
      "24:\tlearn: 0.8724077\ttest: 0.8356235\tbest: 0.8356235 (22)\ttotal: 147ms\tremaining: 1.61s\n",
      "25:\tlearn: 0.8736714\ttest: 0.8366978\tbest: 0.8366978 (25)\ttotal: 151ms\tremaining: 1.59s\n",
      "26:\tlearn: 0.8740056\ttest: 0.8401543\tbest: 0.8401543 (26)\ttotal: 157ms\tremaining: 1.58s\n",
      "27:\tlearn: 0.8744045\ttest: 0.8393517\tbest: 0.8401543 (26)\ttotal: 162ms\tremaining: 1.57s\n",
      "28:\tlearn: 0.8754680\ttest: 0.8396235\tbest: 0.8401543 (26)\ttotal: 167ms\tremaining: 1.56s\n",
      "29:\tlearn: 0.8759323\ttest: 0.8390927\tbest: 0.8401543 (26)\ttotal: 171ms\tremaining: 1.54s\n",
      "30:\tlearn: 0.8789271\ttest: 0.8372286\tbest: 0.8401543 (26)\ttotal: 178ms\tremaining: 1.54s\n",
      "31:\tlearn: 0.8807899\ttest: 0.8404389\tbest: 0.8404389 (31)\ttotal: 184ms\tremaining: 1.54s\n",
      "32:\tlearn: 0.8827867\ttest: 0.8406979\tbest: 0.8406979 (32)\ttotal: 188ms\tremaining: 1.52s\n",
      "33:\tlearn: 0.8840495\ttest: 0.8390927\tbest: 0.8406979 (32)\ttotal: 194ms\tremaining: 1.52s\n",
      "34:\tlearn: 0.8847819\ttest: 0.8412287\tbest: 0.8412287 (34)\ttotal: 201ms\tremaining: 1.52s\n",
      "35:\tlearn: 0.8876443\ttest: 0.8404261\tbest: 0.8412287 (34)\ttotal: 205ms\tremaining: 1.51s\n",
      "36:\tlearn: 0.8875780\ttest: 0.8412287\tbest: 0.8412287 (34)\ttotal: 212ms\tremaining: 1.51s\n",
      "37:\tlearn: 0.8924995\ttest: 0.8385620\tbest: 0.8412287 (34)\ttotal: 218ms\tremaining: 1.5s\n",
      "38:\tlearn: 0.8948289\ttest: 0.8372286\tbest: 0.8412287 (34)\ttotal: 223ms\tremaining: 1.49s\n",
      "39:\tlearn: 0.8954281\ttest: 0.8380312\tbest: 0.8412287 (34)\ttotal: 229ms\tremaining: 1.49s\n",
      "40:\tlearn: 0.8962928\ttest: 0.8372286\tbest: 0.8412287 (34)\ttotal: 233ms\tremaining: 1.47s\n",
      "41:\tlearn: 0.8990196\ttest: 0.8361670\tbest: 0.8412287 (34)\ttotal: 238ms\tremaining: 1.46s\n",
      "42:\tlearn: 0.8999514\ttest: 0.8353645\tbest: 0.8412287 (34)\ttotal: 244ms\tremaining: 1.46s\n",
      "43:\tlearn: 0.9032805\ttest: 0.8380312\tbest: 0.8412287 (34)\ttotal: 249ms\tremaining: 1.45s\n",
      "44:\tlearn: 0.9042785\ttest: 0.8385747\tbest: 0.8412287 (34)\ttotal: 253ms\tremaining: 1.44s\n",
      "45:\tlearn: 0.9057424\ttest: 0.8420440\tbest: 0.8420440 (45)\ttotal: 259ms\tremaining: 1.43s\n",
      "46:\tlearn: 0.9069414\ttest: 0.8396363\tbest: 0.8420440 (45)\ttotal: 264ms\tremaining: 1.42s\n",
      "47:\tlearn: 0.9066757\ttest: 0.8388337\tbest: 0.8420440 (45)\ttotal: 268ms\tremaining: 1.41s\n",
      "48:\tlearn: 0.9089366\ttest: 0.8396363\tbest: 0.8420440 (45)\ttotal: 274ms\tremaining: 1.4s\n",
      "49:\tlearn: 0.9112637\ttest: 0.8460441\tbest: 0.8460441 (49)\ttotal: 280ms\tremaining: 1.4s\n",
      "50:\tlearn: 0.9123949\ttest: 0.8460441\tbest: 0.8460441 (49)\ttotal: 285ms\tremaining: 1.39s\n",
      "51:\tlearn: 0.9139250\ttest: 0.8449825\tbest: 0.8460441 (49)\ttotal: 291ms\tremaining: 1.39s\n",
      "52:\tlearn: 0.9140591\ttest: 0.8436491\tbest: 0.8460441 (49)\ttotal: 296ms\tremaining: 1.38s\n",
      "53:\tlearn: 0.9159211\ttest: 0.8463031\tbest: 0.8463031 (53)\ttotal: 301ms\tremaining: 1.37s\n",
      "54:\tlearn: 0.9172525\ttest: 0.8463031\tbest: 0.8463031 (53)\ttotal: 307ms\tremaining: 1.37s\n",
      "55:\tlearn: 0.9175852\ttest: 0.8465621\tbest: 0.8465621 (55)\ttotal: 311ms\tremaining: 1.36s\n",
      "56:\tlearn: 0.9179857\ttest: 0.8441672\tbest: 0.8465621 (55)\ttotal: 316ms\tremaining: 1.35s\n",
      "57:\tlearn: 0.9203814\ttest: 0.8436364\tbest: 0.8465621 (55)\ttotal: 322ms\tremaining: 1.34s\n",
      "58:\tlearn: 0.9227747\ttest: 0.8446979\tbest: 0.8465621 (55)\ttotal: 327ms\tremaining: 1.33s\n",
      "59:\tlearn: 0.9235724\ttest: 0.8438954\tbest: 0.8465621 (55)\ttotal: 332ms\tremaining: 1.33s\n",
      "60:\tlearn: 0.9237057\ttest: 0.8438954\tbest: 0.8465621 (55)\ttotal: 336ms\tremaining: 1.32s\n",
      "61:\tlearn: 0.9248361\ttest: 0.8463031\tbest: 0.8465621 (55)\ttotal: 342ms\tremaining: 1.31s\n",
      "62:\tlearn: 0.9249693\ttest: 0.8463031\tbest: 0.8465621 (55)\ttotal: 347ms\tremaining: 1.31s\n",
      "63:\tlearn: 0.9259011\ttest: 0.8460441\tbest: 0.8465621 (55)\ttotal: 353ms\tremaining: 1.3s\n",
      "64:\tlearn: 0.9277631\ttest: 0.8449697\tbest: 0.8465621 (55)\ttotal: 358ms\tremaining: 1.29s\n",
      "65:\tlearn: 0.9284284\ttest: 0.8449697\tbest: 0.8465621 (55)\ttotal: 363ms\tremaining: 1.29s\n",
      "66:\tlearn: 0.9292932\ttest: 0.8449697\tbest: 0.8465621 (55)\ttotal: 368ms\tremaining: 1.28s\n",
      "67:\tlearn: 0.9293594\ttest: 0.8455005\tbest: 0.8465621 (55)\ttotal: 374ms\tremaining: 1.27s\n",
      "68:\tlearn: 0.9290284\ttest: 0.8420312\tbest: 0.8465621 (55)\ttotal: 379ms\tremaining: 1.27s\n",
      "69:\tlearn: 0.9316211\ttest: 0.8428466\tbest: 0.8465621 (55)\ttotal: 384ms\tremaining: 1.26s\n",
      "70:\tlearn: 0.9320870\ttest: 0.8409697\tbest: 0.8465621 (55)\ttotal: 389ms\tremaining: 1.25s\n",
      "71:\tlearn: 0.9347483\ttest: 0.8439081\tbest: 0.8465621 (55)\ttotal: 395ms\tremaining: 1.25s\n",
      "72:\tlearn: 0.9366111\ttest: 0.8431056\tbest: 0.8465621 (55)\ttotal: 400ms\tremaining: 1.24s\n",
      "73:\tlearn: 0.9372102\ttest: 0.8444389\tbest: 0.8465621 (55)\ttotal: 406ms\tremaining: 1.24s\n",
      "74:\tlearn: 0.9375429\ttest: 0.8417722\tbest: 0.8465621 (55)\ttotal: 412ms\tremaining: 1.24s\n",
      "75:\tlearn: 0.9383423\ttest: 0.8407107\tbest: 0.8465621 (55)\ttotal: 417ms\tremaining: 1.23s\n",
      "76:\tlearn: 0.9400718\ttest: 0.8428466\tbest: 0.8465621 (55)\ttotal: 423ms\tremaining: 1.22s\n",
      "77:\tlearn: 0.9406039\ttest: 0.8420440\tbest: 0.8465621 (55)\ttotal: 428ms\tremaining: 1.22s\n",
      "78:\tlearn: 0.9412693\ttest: 0.8425748\tbest: 0.8465621 (55)\ttotal: 434ms\tremaining: 1.21s\n",
      "79:\tlearn: 0.9435971\ttest: 0.8433774\tbest: 0.8465621 (55)\ttotal: 439ms\tremaining: 1.21s\n",
      "80:\tlearn: 0.9437304\ttest: 0.8449697\tbest: 0.8465621 (55)\ttotal: 444ms\tremaining: 1.2s\n",
      "81:\tlearn: 0.9458596\ttest: 0.8396363\tbest: 0.8465621 (55)\ttotal: 449ms\tremaining: 1.19s\n",
      "82:\tlearn: 0.9466574\ttest: 0.8417722\tbest: 0.8465621 (55)\ttotal: 455ms\tremaining: 1.19s\n",
      "83:\tlearn: 0.9477224\ttest: 0.8417722\tbest: 0.8465621 (55)\ttotal: 460ms\tremaining: 1.18s\n",
      "84:\tlearn: 0.9496522\ttest: 0.8423030\tbest: 0.8465621 (55)\ttotal: 465ms\tremaining: 1.18s\n",
      "85:\tlearn: 0.9499178\ttest: 0.8420440\tbest: 0.8465621 (55)\ttotal: 470ms\tremaining: 1.17s\n",
      "86:\tlearn: 0.9490531\ttest: 0.8431056\tbest: 0.8465621 (55)\ttotal: 476ms\tremaining: 1.17s\n",
      "87:\tlearn: 0.9501181\ttest: 0.8439081\tbest: 0.8465621 (55)\ttotal: 481ms\tremaining: 1.16s\n",
      "88:\tlearn: 0.9507834\ttest: 0.8417722\tbest: 0.8465621 (55)\ttotal: 486ms\tremaining: 1.15s\n",
      "89:\tlearn: 0.9527786\ttest: 0.8409697\tbest: 0.8465621 (55)\ttotal: 492ms\tremaining: 1.15s\n",
      "90:\tlearn: 0.9537774\ttest: 0.8409697\tbest: 0.8465621 (55)\ttotal: 497ms\tremaining: 1.14s\n",
      "91:\tlearn: 0.9543774\ttest: 0.8423030\tbest: 0.8465621 (55)\ttotal: 502ms\tremaining: 1.14s\n",
      "92:\tlearn: 0.9564396\ttest: 0.8433646\tbest: 0.8465621 (55)\ttotal: 508ms\tremaining: 1.13s\n",
      "93:\tlearn: 0.9568385\ttest: 0.8425620\tbest: 0.8465621 (55)\ttotal: 514ms\tremaining: 1.13s\n",
      "94:\tlearn: 0.9563726\ttest: 0.8404261\tbest: 0.8465621 (55)\ttotal: 518ms\tremaining: 1.12s\n",
      "95:\tlearn: 0.9571041\ttest: 0.8412287\tbest: 0.8465621 (55)\ttotal: 524ms\tremaining: 1.11s\n",
      "96:\tlearn: 0.9563056\ttest: 0.8391055\tbest: 0.8465621 (55)\ttotal: 530ms\tremaining: 1.11s\n",
      "97:\tlearn: 0.9574360\ttest: 0.8396363\tbest: 0.8465621 (55)\ttotal: 534ms\tremaining: 1.1s\n",
      "98:\tlearn: 0.9574368\ttest: 0.8361670\tbest: 0.8465621 (55)\ttotal: 540ms\tremaining: 1.09s\n",
      "99:\tlearn: 0.9591001\ttest: 0.8401671\tbest: 0.8465621 (55)\ttotal: 545ms\tremaining: 1.09s\n",
      "100:\tlearn: 0.9603654\ttest: 0.8423030\tbest: 0.8465621 (55)\ttotal: 550ms\tremaining: 1.08s\n",
      "101:\tlearn: 0.9613626\ttest: 0.8406979\tbest: 0.8465621 (55)\ttotal: 556ms\tremaining: 1.08s\n",
      "102:\tlearn: 0.9617615\ttest: 0.8393645\tbest: 0.8465621 (55)\ttotal: 561ms\tremaining: 1.07s\n",
      "103:\tlearn: 0.9614288\ttest: 0.8398953\tbest: 0.8465621 (55)\ttotal: 566ms\tremaining: 1.07s\n",
      "104:\tlearn: 0.9615612\ttest: 0.8385620\tbest: 0.8465621 (55)\ttotal: 572ms\tremaining: 1.06s\n",
      "105:\tlearn: 0.9624922\ttest: 0.8396363\tbest: 0.8465621 (55)\ttotal: 577ms\tremaining: 1.06s\n",
      "106:\tlearn: 0.9627587\ttest: 0.8409697\tbest: 0.8465621 (55)\ttotal: 582ms\tremaining: 1.05s\n",
      "107:\tlearn: 0.9627587\ttest: 0.8417722\tbest: 0.8465621 (55)\ttotal: 588ms\tremaining: 1.04s\n",
      "108:\tlearn: 0.9626925\ttest: 0.8404389\tbest: 0.8465621 (55)\ttotal: 593ms\tremaining: 1.04s\n",
      "109:\tlearn: 0.9626925\ttest: 0.8407107\tbest: 0.8465621 (55)\ttotal: 600ms\tremaining: 1.04s\n",
      "110:\tlearn: 0.9628257\ttest: 0.8407107\tbest: 0.8465621 (55)\ttotal: 605ms\tremaining: 1.03s\n",
      "111:\tlearn: 0.9637567\ttest: 0.8401799\tbest: 0.8465621 (55)\ttotal: 612ms\tremaining: 1.03s\n",
      "112:\tlearn: 0.9637567\ttest: 0.8401799\tbest: 0.8465621 (55)\ttotal: 616ms\tremaining: 1.02s\n",
      "113:\tlearn: 0.9636235\ttest: 0.8407107\tbest: 0.8465621 (55)\ttotal: 622ms\tremaining: 1.01s\n",
      "114:\tlearn: 0.9644220\ttest: 0.8409824\tbest: 0.8465621 (55)\ttotal: 628ms\tremaining: 1.01s\n",
      "115:\tlearn: 0.9662848\ttest: 0.8423158\tbest: 0.8465621 (55)\ttotal: 633ms\tremaining: 1s\n",
      "116:\tlearn: 0.9665513\ttest: 0.8423158\tbest: 0.8465621 (55)\ttotal: 638ms\tremaining: 998ms\n",
      "117:\tlearn: 0.9669501\ttest: 0.8425748\tbest: 0.8465621 (55)\ttotal: 643ms\tremaining: 993ms\n",
      "118:\tlearn: 0.9660854\ttest: 0.8409824\tbest: 0.8465621 (55)\ttotal: 648ms\tremaining: 986ms\n",
      "119:\tlearn: 0.9660854\ttest: 0.8409824\tbest: 0.8465621 (55)\ttotal: 655ms\tremaining: 982ms\n",
      "120:\tlearn: 0.9662848\ttest: 0.8401799\tbest: 0.8465621 (55)\ttotal: 659ms\tremaining: 976ms\n",
      "121:\tlearn: 0.9674823\ttest: 0.8393773\tbest: 0.8465621 (55)\ttotal: 665ms\tremaining: 970ms\n",
      "122:\tlearn: 0.9673490\ttest: 0.8423030\tbest: 0.8465621 (55)\ttotal: 671ms\tremaining: 965ms\n",
      "123:\tlearn: 0.9674823\ttest: 0.8417722\tbest: 0.8465621 (55)\ttotal: 676ms\tremaining: 960ms\n",
      "124:\tlearn: 0.9677487\ttest: 0.8412414\tbest: 0.8465621 (55)\ttotal: 681ms\tremaining: 954ms\n",
      "125:\tlearn: 0.9679482\ttest: 0.8415132\tbest: 0.8465621 (55)\ttotal: 686ms\tremaining: 948ms\n",
      "126:\tlearn: 0.9688137\ttest: 0.8425748\tbest: 0.8465621 (55)\ttotal: 692ms\tremaining: 942ms\n",
      "127:\tlearn: 0.9699450\ttest: 0.8417722\tbest: 0.8465621 (55)\ttotal: 696ms\tremaining: 936ms\n",
      "128:\tlearn: 0.9699450\ttest: 0.8431056\tbest: 0.8465621 (55)\ttotal: 702ms\tremaining: 931ms\n",
      "129:\tlearn: 0.9695461\ttest: 0.8423030\tbest: 0.8465621 (55)\ttotal: 708ms\tremaining: 925ms\n",
      "130:\tlearn: 0.9704101\ttest: 0.8404261\tbest: 0.8465621 (55)\ttotal: 712ms\tremaining: 919ms\n",
      "131:\tlearn: 0.9718724\ttest: 0.8412287\tbest: 0.8465621 (55)\ttotal: 718ms\tremaining: 913ms\n",
      "132:\tlearn: 0.9722050\ttest: 0.8398953\tbest: 0.8465621 (55)\ttotal: 726ms\tremaining: 912ms\n",
      "133:\tlearn: 0.9721388\ttest: 0.8382902\tbest: 0.8465621 (55)\ttotal: 731ms\tremaining: 905ms\n",
      "134:\tlearn: 0.9723391\ttest: 0.8396235\tbest: 0.8465621 (55)\ttotal: 736ms\tremaining: 900ms\n",
      "135:\tlearn: 0.9728049\ttest: 0.8409569\tbest: 0.8465621 (55)\ttotal: 742ms\tremaining: 895ms\n",
      "136:\tlearn: 0.9728712\ttest: 0.8401671\tbest: 0.8465621 (55)\ttotal: 747ms\tremaining: 889ms\n",
      "137:\tlearn: 0.9731376\ttest: 0.8391055\tbest: 0.8465621 (55)\ttotal: 752ms\tremaining: 883ms\n",
      "138:\tlearn: 0.9733379\ttest: 0.8399081\tbest: 0.8465621 (55)\ttotal: 758ms\tremaining: 878ms\n",
      "139:\tlearn: 0.9732708\ttest: 0.8396363\tbest: 0.8465621 (55)\ttotal: 763ms\tremaining: 873ms\n",
      "140:\tlearn: 0.9732708\ttest: 0.8420440\tbest: 0.8465621 (55)\ttotal: 769ms\tremaining: 867ms\n",
      "141:\tlearn: 0.9735365\ttest: 0.8401671\tbest: 0.8465621 (55)\ttotal: 774ms\tremaining: 861ms\n",
      "142:\tlearn: 0.9738692\ttest: 0.8390927\tbest: 0.8465621 (55)\ttotal: 778ms\tremaining: 855ms\n",
      "143:\tlearn: 0.9744013\ttest: 0.8388210\tbest: 0.8465621 (55)\ttotal: 783ms\tremaining: 849ms\n",
      "144:\tlearn: 0.9749996\ttest: 0.8385492\tbest: 0.8465621 (55)\ttotal: 789ms\tremaining: 843ms\n",
      "145:\tlearn: 0.9756641\ttest: 0.8396235\tbest: 0.8465621 (55)\ttotal: 794ms\tremaining: 838ms\n",
      "146:\tlearn: 0.9761963\ttest: 0.8396235\tbest: 0.8465621 (55)\ttotal: 799ms\tremaining: 831ms\n",
      "147:\tlearn: 0.9764619\ttest: 0.8396235\tbest: 0.8465621 (55)\ttotal: 805ms\tremaining: 827ms\n",
      "148:\tlearn: 0.9767946\ttest: 0.8401543\tbest: 0.8465621 (55)\ttotal: 810ms\tremaining: 821ms\n",
      "149:\tlearn: 0.9768616\ttest: 0.8398825\tbest: 0.8465621 (55)\ttotal: 816ms\tremaining: 816ms\n",
      "150:\tlearn: 0.9771943\ttest: 0.8385492\tbest: 0.8465621 (55)\ttotal: 821ms\tremaining: 810ms\n",
      "151:\tlearn: 0.9771943\ttest: 0.8366850\tbest: 0.8465621 (55)\ttotal: 826ms\tremaining: 804ms\n",
      "152:\tlearn: 0.9778588\ttest: 0.8356235\tbest: 0.8465621 (55)\ttotal: 831ms\tremaining: 798ms\n",
      "153:\tlearn: 0.9781915\ttest: 0.8372286\tbest: 0.8465621 (55)\ttotal: 837ms\tremaining: 793ms\n",
      "154:\tlearn: 0.9781915\ttest: 0.8393645\tbest: 0.8465621 (55)\ttotal: 843ms\tremaining: 789ms\n",
      "155:\tlearn: 0.9784579\ttest: 0.8388337\tbest: 0.8465621 (55)\ttotal: 849ms\tremaining: 783ms\n",
      "156:\tlearn: 0.9786574\ttest: 0.8388337\tbest: 0.8465621 (55)\ttotal: 854ms\tremaining: 778ms\n",
      "157:\tlearn: 0.9792565\ttest: 0.8380312\tbest: 0.8465621 (55)\ttotal: 859ms\tremaining: 772ms\n",
      "158:\tlearn: 0.9795221\ttest: 0.8383030\tbest: 0.8465621 (55)\ttotal: 864ms\tremaining: 767ms\n",
      "159:\tlearn: 0.9801205\ttest: 0.8391055\tbest: 0.8465621 (55)\ttotal: 870ms\tremaining: 761ms\n",
      "160:\tlearn: 0.9801205\ttest: 0.8396363\tbest: 0.8465621 (55)\ttotal: 875ms\tremaining: 756ms\n",
      "161:\tlearn: 0.9806526\ttest: 0.8385747\tbest: 0.8465621 (55)\ttotal: 880ms\tremaining: 750ms\n",
      "162:\tlearn: 0.9813171\ttest: 0.8396363\tbest: 0.8465621 (55)\ttotal: 886ms\tremaining: 745ms\n",
      "163:\tlearn: 0.9811839\ttest: 0.8375132\tbest: 0.8465621 (55)\ttotal: 892ms\tremaining: 740ms\n",
      "164:\tlearn: 0.9811839\ttest: 0.8375132\tbest: 0.8465621 (55)\ttotal: 896ms\tremaining: 733ms\n",
      "165:\tlearn: 0.9813833\ttest: 0.8380439\tbest: 0.8465621 (55)\ttotal: 903ms\tremaining: 729ms\n",
      "166:\tlearn: 0.9813171\ttest: 0.8380439\tbest: 0.8465621 (55)\ttotal: 909ms\tremaining: 724ms\n",
      "167:\tlearn: 0.9811839\ttest: 0.8385747\tbest: 0.8465621 (55)\ttotal: 914ms\tremaining: 718ms\n",
      "168:\tlearn: 0.9815828\ttest: 0.8417850\tbest: 0.8465621 (55)\ttotal: 920ms\tremaining: 713ms\n",
      "169:\tlearn: 0.9815166\ttest: 0.8428466\tbest: 0.8465621 (55)\ttotal: 926ms\tremaining: 708ms\n",
      "170:\tlearn: 0.9815166\ttest: 0.8428466\tbest: 0.8465621 (55)\ttotal: 931ms\tremaining: 702ms\n",
      "171:\tlearn: 0.9818484\ttest: 0.8417722\tbest: 0.8465621 (55)\ttotal: 938ms\tremaining: 698ms\n",
      "172:\tlearn: 0.9825138\ttest: 0.8423030\tbest: 0.8465621 (55)\ttotal: 943ms\tremaining: 692ms\n",
      "173:\tlearn: 0.9829134\ttest: 0.8428466\tbest: 0.8465621 (55)\ttotal: 948ms\tremaining: 686ms\n",
      "174:\tlearn: 0.9831129\ttest: 0.8412414\tbest: 0.8465621 (55)\ttotal: 954ms\tremaining: 682ms\n",
      "175:\tlearn: 0.9829134\ttest: 0.8420440\tbest: 0.8465621 (55)\ttotal: 960ms\tremaining: 676ms\n",
      "176:\tlearn: 0.9831129\ttest: 0.8423158\tbest: 0.8465621 (55)\ttotal: 965ms\tremaining: 671ms\n",
      "177:\tlearn: 0.9832461\ttest: 0.8417850\tbest: 0.8465621 (55)\ttotal: 973ms\tremaining: 667ms\n",
      "178:\tlearn: 0.9831129\ttest: 0.8417850\tbest: 0.8465621 (55)\ttotal: 981ms\tremaining: 663ms\n",
      "179:\tlearn: 0.9833123\ttest: 0.8420568\tbest: 0.8465621 (55)\ttotal: 985ms\tremaining: 657ms\n",
      "180:\tlearn: 0.9834456\ttest: 0.8425876\tbest: 0.8465621 (55)\ttotal: 991ms\tremaining: 652ms\n",
      "181:\tlearn: 0.9837782\ttest: 0.8420568\tbest: 0.8465621 (55)\ttotal: 998ms\tremaining: 647ms\n",
      "182:\tlearn: 0.9837782\ttest: 0.8407107\tbest: 0.8465621 (55)\ttotal: 1s\tremaining: 642ms\n",
      "183:\tlearn: 0.9837782\ttest: 0.8420440\tbest: 0.8465621 (55)\ttotal: 1.01s\tremaining: 637ms\n",
      "184:\tlearn: 0.9836450\ttest: 0.8428338\tbest: 0.8465621 (55)\ttotal: 1.02s\tremaining: 632ms\n",
      "185:\tlearn: 0.9838444\ttest: 0.8423030\tbest: 0.8465621 (55)\ttotal: 1.02s\tremaining: 626ms\n",
      "186:\tlearn: 0.9838444\ttest: 0.8396491\tbest: 0.8465621 (55)\ttotal: 1.03s\tremaining: 620ms\n",
      "187:\tlearn: 0.9838444\ttest: 0.8396491\tbest: 0.8465621 (55)\ttotal: 1.03s\tremaining: 615ms\n",
      "188:\tlearn: 0.9838444\ttest: 0.8399081\tbest: 0.8465621 (55)\ttotal: 1.04s\tremaining: 609ms\n",
      "189:\tlearn: 0.9838444\ttest: 0.8399081\tbest: 0.8465621 (55)\ttotal: 1.04s\tremaining: 603ms\n",
      "190:\tlearn: 0.9840439\ttest: 0.8407107\tbest: 0.8465621 (55)\ttotal: 1.05s\tremaining: 600ms\n",
      "191:\tlearn: 0.9840439\ttest: 0.8409697\tbest: 0.8465621 (55)\ttotal: 1.06s\tremaining: 594ms\n",
      "192:\tlearn: 0.9839107\ttest: 0.8396363\tbest: 0.8465621 (55)\ttotal: 1.06s\tremaining: 589ms\n",
      "193:\tlearn: 0.9837112\ttest: 0.8401671\tbest: 0.8465621 (55)\ttotal: 1.07s\tremaining: 583ms\n",
      "194:\tlearn: 0.9844428\ttest: 0.8409697\tbest: 0.8465621 (55)\ttotal: 1.07s\tremaining: 577ms\n",
      "195:\tlearn: 0.9844428\ttest: 0.8401671\tbest: 0.8465621 (55)\ttotal: 1.08s\tremaining: 571ms\n",
      "196:\tlearn: 0.9845760\ttest: 0.8399081\tbest: 0.8465621 (55)\ttotal: 1.08s\tremaining: 566ms\n",
      "197:\tlearn: 0.9847754\ttest: 0.8401799\tbest: 0.8465621 (55)\ttotal: 1.09s\tremaining: 560ms\n",
      "198:\tlearn: 0.9851743\ttest: 0.8401799\tbest: 0.8465621 (55)\ttotal: 1.09s\tremaining: 554ms\n",
      "199:\tlearn: 0.9855732\ttest: 0.8369824\tbest: 0.8465621 (55)\ttotal: 1.1s\tremaining: 549ms\n",
      "200:\tlearn: 0.9859721\ttest: 0.8399209\tbest: 0.8465621 (55)\ttotal: 1.1s\tremaining: 543ms\n",
      "201:\tlearn: 0.9859721\ttest: 0.8399209\tbest: 0.8465621 (55)\ttotal: 1.11s\tremaining: 537ms\n",
      "202:\tlearn: 0.9859721\ttest: 0.8399209\tbest: 0.8465621 (55)\ttotal: 1.11s\tremaining: 532ms\n",
      "203:\tlearn: 0.9863710\ttest: 0.8380567\tbest: 0.8465621 (55)\ttotal: 1.12s\tremaining: 526ms\n",
      "204:\tlearn: 0.9863710\ttest: 0.8404517\tbest: 0.8465621 (55)\ttotal: 1.12s\tremaining: 521ms\n",
      "205:\tlearn: 0.9863710\ttest: 0.8412542\tbest: 0.8465621 (55)\ttotal: 1.13s\tremaining: 516ms\n",
      "206:\tlearn: 0.9869693\ttest: 0.8417850\tbest: 0.8465621 (55)\ttotal: 1.14s\tremaining: 510ms\n",
      "207:\tlearn: 0.9871687\ttest: 0.8412542\tbest: 0.8465621 (55)\ttotal: 1.14s\tremaining: 504ms\n",
      "208:\tlearn: 0.9871687\ttest: 0.8417850\tbest: 0.8465621 (55)\ttotal: 1.15s\tremaining: 499ms\n",
      "209:\tlearn: 0.9871687\ttest: 0.8417850\tbest: 0.8465621 (55)\ttotal: 1.15s\tremaining: 493ms\n",
      "210:\tlearn: 0.9871687\ttest: 0.8420568\tbest: 0.8465621 (55)\ttotal: 1.16s\tremaining: 488ms\n",
      "211:\tlearn: 0.9871687\ttest: 0.8407234\tbest: 0.8465621 (55)\ttotal: 1.16s\tremaining: 483ms\n",
      "212:\tlearn: 0.9871687\ttest: 0.8425876\tbest: 0.8465621 (55)\ttotal: 1.17s\tremaining: 478ms\n",
      "213:\tlearn: 0.9871687\ttest: 0.8425876\tbest: 0.8465621 (55)\ttotal: 1.18s\tremaining: 472ms\n",
      "214:\tlearn: 0.9873682\ttest: 0.8412542\tbest: 0.8465621 (55)\ttotal: 1.18s\tremaining: 467ms\n",
      "215:\tlearn: 0.9873682\ttest: 0.8412542\tbest: 0.8465621 (55)\ttotal: 1.19s\tremaining: 461ms\n",
      "216:\tlearn: 0.9873682\ttest: 0.8415132\tbest: 0.8465621 (55)\ttotal: 1.19s\tremaining: 456ms\n",
      "217:\tlearn: 0.9873682\ttest: 0.8399081\tbest: 0.8465621 (55)\ttotal: 1.2s\tremaining: 451ms\n",
      "218:\tlearn: 0.9873682\ttest: 0.8393773\tbest: 0.8465621 (55)\ttotal: 1.2s\tremaining: 446ms\n",
      "219:\tlearn: 0.9877008\ttest: 0.8385747\tbest: 0.8465621 (55)\ttotal: 1.21s\tremaining: 440ms\n",
      "220:\tlearn: 0.9877008\ttest: 0.8399081\tbest: 0.8465621 (55)\ttotal: 1.22s\tremaining: 435ms\n",
      "221:\tlearn: 0.9877008\ttest: 0.8399081\tbest: 0.8465621 (55)\ttotal: 1.22s\tremaining: 429ms\n",
      "222:\tlearn: 0.9882329\ttest: 0.8399081\tbest: 0.8465621 (55)\ttotal: 1.23s\tremaining: 423ms\n",
      "223:\tlearn: 0.9880335\ttest: 0.8407107\tbest: 0.8465621 (55)\ttotal: 1.23s\tremaining: 418ms\n",
      "224:\tlearn: 0.9884324\ttest: 0.8401799\tbest: 0.8465621 (55)\ttotal: 1.24s\tremaining: 412ms\n",
      "225:\tlearn: 0.9884324\ttest: 0.8401799\tbest: 0.8465621 (55)\ttotal: 1.24s\tremaining: 406ms\n",
      "226:\tlearn: 0.9888313\ttest: 0.8401799\tbest: 0.8465621 (55)\ttotal: 1.25s\tremaining: 401ms\n",
      "227:\tlearn: 0.9888313\ttest: 0.8396491\tbest: 0.8465621 (55)\ttotal: 1.25s\tremaining: 395ms\n",
      "228:\tlearn: 0.9890307\ttest: 0.8391183\tbest: 0.8465621 (55)\ttotal: 1.26s\tremaining: 390ms\n",
      "229:\tlearn: 0.9888313\ttest: 0.8417850\tbest: 0.8465621 (55)\ttotal: 1.26s\tremaining: 384ms\n",
      "230:\tlearn: 0.9892964\ttest: 0.8428594\tbest: 0.8465621 (55)\ttotal: 1.27s\tremaining: 379ms\n",
      "231:\tlearn: 0.9894296\ttest: 0.8433901\tbest: 0.8465621 (55)\ttotal: 1.27s\tremaining: 373ms\n",
      "232:\tlearn: 0.9898285\ttest: 0.8420568\tbest: 0.8465621 (55)\ttotal: 1.28s\tremaining: 368ms\n",
      "233:\tlearn: 0.9898285\ttest: 0.8420568\tbest: 0.8465621 (55)\ttotal: 1.28s\tremaining: 362ms\n",
      "234:\tlearn: 0.9898285\ttest: 0.8425876\tbest: 0.8465621 (55)\ttotal: 1.29s\tremaining: 357ms\n",
      "235:\tlearn: 0.9902274\ttest: 0.8417850\tbest: 0.8465621 (55)\ttotal: 1.29s\tremaining: 351ms\n",
      "236:\tlearn: 0.9900279\ttest: 0.8436491\tbest: 0.8465621 (55)\ttotal: 1.3s\tremaining: 345ms\n",
      "237:\tlearn: 0.9902274\ttest: 0.8425876\tbest: 0.8465621 (55)\ttotal: 1.3s\tremaining: 340ms\n",
      "238:\tlearn: 0.9906262\ttest: 0.8425876\tbest: 0.8465621 (55)\ttotal: 1.31s\tremaining: 334ms\n",
      "239:\tlearn: 0.9902274\ttest: 0.8431184\tbest: 0.8465621 (55)\ttotal: 1.31s\tremaining: 329ms\n",
      "240:\tlearn: 0.9902274\ttest: 0.8412542\tbest: 0.8465621 (55)\ttotal: 1.32s\tremaining: 323ms\n",
      "241:\tlearn: 0.9906262\ttest: 0.8417850\tbest: 0.8465621 (55)\ttotal: 1.32s\tremaining: 318ms\n",
      "242:\tlearn: 0.9906262\ttest: 0.8415260\tbest: 0.8465621 (55)\ttotal: 1.33s\tremaining: 312ms\n",
      "243:\tlearn: 0.9908257\ttest: 0.8420568\tbest: 0.8465621 (55)\ttotal: 1.33s\tremaining: 307ms\n",
      "244:\tlearn: 0.9908257\ttest: 0.8420568\tbest: 0.8465621 (55)\ttotal: 1.34s\tremaining: 301ms\n",
      "245:\tlearn: 0.9906262\ttest: 0.8425876\tbest: 0.8465621 (55)\ttotal: 1.35s\tremaining: 296ms\n",
      "246:\tlearn: 0.9910251\ttest: 0.8431184\tbest: 0.8465621 (55)\ttotal: 1.35s\tremaining: 290ms\n",
      "247:\tlearn: 0.9910251\ttest: 0.8425876\tbest: 0.8465621 (55)\ttotal: 1.36s\tremaining: 284ms\n",
      "248:\tlearn: 0.9910251\ttest: 0.8425876\tbest: 0.8465621 (55)\ttotal: 1.36s\tremaining: 279ms\n",
      "249:\tlearn: 0.9912246\ttest: 0.8425876\tbest: 0.8465621 (55)\ttotal: 1.37s\tremaining: 273ms\n",
      "250:\tlearn: 0.9912246\ttest: 0.8433901\tbest: 0.8465621 (55)\ttotal: 1.37s\tremaining: 268ms\n",
      "251:\tlearn: 0.9912246\ttest: 0.8425876\tbest: 0.8465621 (55)\ttotal: 1.41s\tremaining: 268ms\n",
      "252:\tlearn: 0.9914240\ttest: 0.8433901\tbest: 0.8465621 (55)\ttotal: 1.49s\tremaining: 276ms\n",
      "253:\tlearn: 0.9914240\ttest: 0.8436619\tbest: 0.8465621 (55)\ttotal: 1.49s\tremaining: 271ms\n",
      "254:\tlearn: 0.9914240\ttest: 0.8447235\tbest: 0.8465621 (55)\ttotal: 1.5s\tremaining: 265ms\n",
      "255:\tlearn: 0.9912246\ttest: 0.8455261\tbest: 0.8465621 (55)\ttotal: 1.51s\tremaining: 259ms\n",
      "256:\tlearn: 0.9912246\ttest: 0.8457978\tbest: 0.8465621 (55)\ttotal: 1.51s\tremaining: 253ms\n",
      "257:\tlearn: 0.9912246\ttest: 0.8441927\tbest: 0.8465621 (55)\ttotal: 1.52s\tremaining: 247ms\n",
      "258:\tlearn: 0.9914240\ttest: 0.8433901\tbest: 0.8465621 (55)\ttotal: 1.52s\tremaining: 241ms\n",
      "259:\tlearn: 0.9912246\ttest: 0.8433901\tbest: 0.8465621 (55)\ttotal: 1.53s\tremaining: 235ms\n",
      "260:\tlearn: 0.9912246\ttest: 0.8439209\tbest: 0.8465621 (55)\ttotal: 1.53s\tremaining: 229ms\n",
      "261:\tlearn: 0.9912246\ttest: 0.8425876\tbest: 0.8465621 (55)\ttotal: 1.54s\tremaining: 223ms\n",
      "262:\tlearn: 0.9916235\ttest: 0.8420568\tbest: 0.8465621 (55)\ttotal: 1.54s\tremaining: 217ms\n",
      "263:\tlearn: 0.9918229\ttest: 0.8447235\tbest: 0.8465621 (55)\ttotal: 1.55s\tremaining: 211ms\n",
      "264:\tlearn: 0.9920223\ttest: 0.8436619\tbest: 0.8465621 (55)\ttotal: 1.56s\tremaining: 206ms\n",
      "265:\tlearn: 0.9918229\ttest: 0.8428594\tbest: 0.8465621 (55)\ttotal: 1.56s\tremaining: 200ms\n",
      "266:\tlearn: 0.9922218\ttest: 0.8420568\tbest: 0.8465621 (55)\ttotal: 1.57s\tremaining: 194ms\n",
      "267:\tlearn: 0.9924212\ttest: 0.8420568\tbest: 0.8465621 (55)\ttotal: 1.57s\tremaining: 188ms\n",
      "268:\tlearn: 0.9924212\ttest: 0.8404517\tbest: 0.8465621 (55)\ttotal: 1.58s\tremaining: 182ms\n",
      "269:\tlearn: 0.9926207\ttest: 0.8399209\tbest: 0.8465621 (55)\ttotal: 1.58s\tremaining: 176ms\n",
      "270:\tlearn: 0.9926207\ttest: 0.8393901\tbest: 0.8465621 (55)\ttotal: 1.59s\tremaining: 170ms\n",
      "271:\tlearn: 0.9926207\ttest: 0.8393901\tbest: 0.8465621 (55)\ttotal: 1.59s\tremaining: 164ms\n",
      "272:\tlearn: 0.9926207\ttest: 0.8399209\tbest: 0.8465621 (55)\ttotal: 1.6s\tremaining: 158ms\n",
      "273:\tlearn: 0.9926207\ttest: 0.8399209\tbest: 0.8465621 (55)\ttotal: 1.6s\tremaining: 152ms\n",
      "274:\tlearn: 0.9926207\ttest: 0.8399209\tbest: 0.8465621 (55)\ttotal: 1.61s\tremaining: 147ms\n",
      "275:\tlearn: 0.9926207\ttest: 0.8417978\tbest: 0.8465621 (55)\ttotal: 1.62s\tremaining: 141ms\n",
      "276:\tlearn: 0.9926207\ttest: 0.8426004\tbest: 0.8465621 (55)\ttotal: 1.62s\tremaining: 135ms\n",
      "277:\tlearn: 0.9926207\ttest: 0.8417978\tbest: 0.8465621 (55)\ttotal: 1.63s\tremaining: 129ms\n",
      "278:\tlearn: 0.9928201\ttest: 0.8420696\tbest: 0.8465621 (55)\ttotal: 1.63s\tremaining: 123ms\n",
      "279:\tlearn: 0.9928201\ttest: 0.8409952\tbest: 0.8465621 (55)\ttotal: 1.64s\tremaining: 117ms\n",
      "280:\tlearn: 0.9928201\ttest: 0.8393901\tbest: 0.8465621 (55)\ttotal: 1.64s\tremaining: 111ms\n",
      "281:\tlearn: 0.9928201\ttest: 0.8393901\tbest: 0.8465621 (55)\ttotal: 1.65s\tremaining: 105ms\n",
      "282:\tlearn: 0.9928201\ttest: 0.8380567\tbest: 0.8465621 (55)\ttotal: 1.65s\tremaining: 99.3ms\n",
      "283:\tlearn: 0.9928201\ttest: 0.8396619\tbest: 0.8465621 (55)\ttotal: 1.66s\tremaining: 93.5ms\n",
      "284:\tlearn: 0.9930195\ttest: 0.8393901\tbest: 0.8465621 (55)\ttotal: 1.67s\tremaining: 87.7ms\n",
      "285:\tlearn: 0.9932190\ttest: 0.8393901\tbest: 0.8465621 (55)\ttotal: 1.67s\tremaining: 81.8ms\n",
      "286:\tlearn: 0.9932190\ttest: 0.8401927\tbest: 0.8465621 (55)\ttotal: 1.68s\tremaining: 75.9ms\n",
      "287:\tlearn: 0.9932190\ttest: 0.8393901\tbest: 0.8465621 (55)\ttotal: 1.68s\tremaining: 70ms\n",
      "288:\tlearn: 0.9932190\ttest: 0.8401927\tbest: 0.8465621 (55)\ttotal: 1.69s\tremaining: 64.2ms\n",
      "289:\tlearn: 0.9930195\ttest: 0.8417850\tbest: 0.8465621 (55)\ttotal: 1.69s\tremaining: 58.3ms\n",
      "290:\tlearn: 0.9930195\ttest: 0.8417850\tbest: 0.8465621 (55)\ttotal: 1.7s\tremaining: 52.5ms\n",
      "291:\tlearn: 0.9930195\ttest: 0.8420568\tbest: 0.8465621 (55)\ttotal: 1.7s\tremaining: 46.6ms\n",
      "292:\tlearn: 0.9932190\ttest: 0.8420568\tbest: 0.8465621 (55)\ttotal: 1.71s\tremaining: 40.8ms\n",
      "293:\tlearn: 0.9932190\ttest: 0.8455261\tbest: 0.8465621 (55)\ttotal: 1.71s\tremaining: 34.9ms\n",
      "294:\tlearn: 0.9932190\ttest: 0.8455261\tbest: 0.8465621 (55)\ttotal: 1.72s\tremaining: 29.1ms\n",
      "295:\tlearn: 0.9932190\ttest: 0.8439209\tbest: 0.8465621 (55)\ttotal: 1.72s\tremaining: 23.3ms\n",
      "296:\tlearn: 0.9934184\ttest: 0.8447235\tbest: 0.8465621 (55)\ttotal: 1.73s\tremaining: 17.5ms\n",
      "297:\tlearn: 0.9934184\ttest: 0.8447235\tbest: 0.8465621 (55)\ttotal: 1.73s\tremaining: 11.6ms\n",
      "298:\tlearn: 0.9934184\ttest: 0.8447235\tbest: 0.8465621 (55)\ttotal: 1.74s\tremaining: 5.81ms\n",
      "299:\tlearn: 0.9936179\ttest: 0.8449953\tbest: 0.8465621 (55)\ttotal: 1.74s\tremaining: 0us\n",
      "\n",
      "bestTest = 0.8465620772\n",
      "bestIteration = 55\n",
      "\n",
      "Shrink model to first 56 iterations.\n",
      "Feature #34 eliminated\n",
      "Feature #25 eliminated\n",
      "Feature #14 eliminated\n",
      "Feature #48 eliminated\n",
      "Feature #24 eliminated\n",
      "Feature #85 eliminated\n",
      "Feature #60 eliminated\n",
      "Feature #81 eliminated\n",
      "Feature #31 eliminated\n",
      "Feature #93 eliminated\n",
      "Train final model\n",
      "0:\tlearn: 0.7930276\ttest: 0.7766713\tbest: 0.7766713 (0)\ttotal: 14ms\tremaining: 4.2s\n",
      "1:\tlearn: 0.8011672\ttest: 0.7942000\tbest: 0.7942000 (1)\ttotal: 19ms\tremaining: 2.83s\n",
      "2:\tlearn: 0.8019091\ttest: 0.7925438\tbest: 0.7942000 (1)\ttotal: 24.3ms\tremaining: 2.41s\n",
      "3:\tlearn: 0.8112119\ttest: 0.8046079\tbest: 0.8046079 (3)\ttotal: 29.7ms\tremaining: 2.2s\n",
      "4:\tlearn: 0.8156706\ttest: 0.8027309\tbest: 0.8046079 (3)\ttotal: 35ms\tremaining: 2.06s\n",
      "5:\tlearn: 0.8195964\ttest: 0.8022002\tbest: 0.8046079 (3)\ttotal: 41.2ms\tremaining: 2.02s\n",
      "6:\tlearn: 0.8226519\ttest: 0.8041026\tbest: 0.8046079 (3)\ttotal: 45.8ms\tremaining: 1.92s\n",
      "7:\tlearn: 0.8288377\ttest: 0.8142642\tbest: 0.8142642 (7)\ttotal: 50.6ms\tremaining: 1.84s\n",
      "8:\tlearn: 0.8338924\ttest: 0.8115720\tbest: 0.8142642 (7)\ttotal: 57.7ms\tremaining: 1.87s\n",
      "9:\tlearn: 0.8350228\ttest: 0.8150285\tbest: 0.8150285 (9)\ttotal: 63ms\tremaining: 1.83s\n",
      "10:\tlearn: 0.8391481\ttest: 0.8230286\tbest: 0.8230286 (10)\ttotal: 68.3ms\tremaining: 1.79s\n",
      "11:\tlearn: 0.8390803\ttest: 0.8241157\tbest: 0.8241157 (11)\ttotal: 73.2ms\tremaining: 1.76s\n",
      "12:\tlearn: 0.8406096\ttest: 0.8265107\tbest: 0.8265107 (12)\ttotal: 80.8ms\tremaining: 1.78s\n",
      "13:\tlearn: 0.8418740\ttest: 0.8289184\tbest: 0.8289184 (13)\ttotal: 88.7ms\tremaining: 1.81s\n",
      "14:\tlearn: 0.8427388\ttest: 0.8291901\tbest: 0.8291901 (14)\ttotal: 95.2ms\tremaining: 1.81s\n",
      "15:\tlearn: 0.8463966\ttest: 0.8337338\tbest: 0.8337338 (15)\ttotal: 103ms\tremaining: 1.82s\n",
      "16:\tlearn: 0.8500543\ttest: 0.8340055\tbest: 0.8340055 (16)\ttotal: 111ms\tremaining: 1.85s\n",
      "17:\tlearn: 0.8508529\ttest: 0.8337465\tbest: 0.8340055 (16)\ttotal: 118ms\tremaining: 1.85s\n",
      "18:\tlearn: 0.8517169\ttest: 0.8369568\tbest: 0.8369568 (18)\ttotal: 126ms\tremaining: 1.87s\n",
      "19:\tlearn: 0.8529797\ttest: 0.8364260\tbest: 0.8369568 (18)\ttotal: 131ms\tremaining: 1.83s\n",
      "20:\tlearn: 0.8533786\ttest: 0.8369696\tbest: 0.8369696 (20)\ttotal: 136ms\tremaining: 1.8s\n",
      "21:\tlearn: 0.8537113\ttest: 0.8388465\tbest: 0.8388465 (21)\ttotal: 141ms\tremaining: 1.78s\n",
      "22:\tlearn: 0.8548417\ttest: 0.8391183\tbest: 0.8391183 (22)\ttotal: 146ms\tremaining: 1.76s\n",
      "23:\tlearn: 0.8594313\ttest: 0.8369824\tbest: 0.8391183 (22)\ttotal: 151ms\tremaining: 1.73s\n",
      "24:\tlearn: 0.8601636\ttest: 0.8375132\tbest: 0.8391183 (22)\ttotal: 157ms\tremaining: 1.73s\n",
      "25:\tlearn: 0.8638230\ttest: 0.8367106\tbest: 0.8391183 (22)\ttotal: 167ms\tremaining: 1.76s\n",
      "26:\tlearn: 0.8629582\ttest: 0.8367106\tbest: 0.8391183 (22)\ttotal: 174ms\tremaining: 1.75s\n",
      "27:\tlearn: 0.8626255\ttest: 0.8372414\tbest: 0.8391183 (22)\ttotal: 179ms\tremaining: 1.74s\n",
      "28:\tlearn: 0.8623599\ttest: 0.8385747\tbest: 0.8391183 (22)\ttotal: 184ms\tremaining: 1.72s\n",
      "29:\tlearn: 0.8642897\ttest: 0.8383157\tbest: 0.8391183 (22)\ttotal: 189ms\tremaining: 1.7s\n",
      "30:\tlearn: 0.8640240\ttest: 0.8393901\tbest: 0.8393901 (30)\ttotal: 194ms\tremaining: 1.68s\n",
      "31:\tlearn: 0.8667516\ttest: 0.8415260\tbest: 0.8415260 (31)\ttotal: 198ms\tremaining: 1.66s\n",
      "32:\tlearn: 0.8682171\ttest: 0.8436619\tbest: 0.8436619 (32)\ttotal: 203ms\tremaining: 1.64s\n",
      "33:\tlearn: 0.8708784\ttest: 0.8431184\tbest: 0.8436619 (32)\ttotal: 208ms\tremaining: 1.63s\n",
      "34:\tlearn: 0.8722761\ttest: 0.8447235\tbest: 0.8447235 (34)\ttotal: 213ms\tremaining: 1.61s\n",
      "35:\tlearn: 0.8736722\ttest: 0.8484518\tbest: 0.8484518 (35)\ttotal: 217ms\tremaining: 1.59s\n",
      "36:\tlearn: 0.8756020\ttest: 0.8447107\tbest: 0.8484518 (35)\ttotal: 222ms\tremaining: 1.58s\n",
      "37:\tlearn: 0.8754688\ttest: 0.8455133\tbest: 0.8484518 (35)\ttotal: 227ms\tremaining: 1.56s\n",
      "38:\tlearn: 0.8777312\ttest: 0.8463031\tbest: 0.8484518 (35)\ttotal: 231ms\tremaining: 1.55s\n",
      "39:\tlearn: 0.8781971\ttest: 0.8463031\tbest: 0.8484518 (35)\ttotal: 237ms\tremaining: 1.54s\n",
      "40:\tlearn: 0.8825880\ttest: 0.8455005\tbest: 0.8484518 (35)\ttotal: 242ms\tremaining: 1.52s\n",
      "41:\tlearn: 0.8837855\ttest: 0.8438954\tbest: 0.8484518 (35)\ttotal: 247ms\tremaining: 1.51s\n",
      "42:\tlearn: 0.8851839\ttest: 0.8452543\tbest: 0.8484518 (35)\ttotal: 252ms\tremaining: 1.51s\n",
      "43:\tlearn: 0.8880423\ttest: 0.8452543\tbest: 0.8484518 (35)\ttotal: 257ms\tremaining: 1.5s\n",
      "44:\tlearn: 0.8903024\ttest: 0.8436619\tbest: 0.8484518 (35)\ttotal: 263ms\tremaining: 1.49s\n",
      "45:\tlearn: 0.8915007\ttest: 0.8450081\tbest: 0.8484518 (35)\ttotal: 269ms\tremaining: 1.48s\n",
      "46:\tlearn: 0.8920328\ttest: 0.8434029\tbest: 0.8484518 (35)\ttotal: 277ms\tremaining: 1.49s\n",
      "47:\tlearn: 0.8935645\ttest: 0.8433901\tbest: 0.8484518 (35)\ttotal: 281ms\tremaining: 1.48s\n",
      "48:\tlearn: 0.8966917\ttest: 0.8433901\tbest: 0.8484518 (35)\ttotal: 287ms\tremaining: 1.47s\n",
      "49:\tlearn: 0.8969582\ttest: 0.8420568\tbest: 0.8484518 (35)\ttotal: 292ms\tremaining: 1.46s\n",
      "50:\tlearn: 0.8980894\ttest: 0.8407234\tbest: 0.8484518 (35)\ttotal: 296ms\tremaining: 1.45s\n",
      "51:\tlearn: 0.8982896\ttest: 0.8415260\tbest: 0.8484518 (35)\ttotal: 302ms\tremaining: 1.44s\n",
      "52:\tlearn: 0.9014153\ttest: 0.8452671\tbest: 0.8484518 (35)\ttotal: 306ms\tremaining: 1.43s\n",
      "53:\tlearn: 0.9039426\ttest: 0.8444645\tbest: 0.8484518 (35)\ttotal: 311ms\tremaining: 1.42s\n",
      "54:\tlearn: 0.9050076\ttest: 0.8426004\tbest: 0.8484518 (35)\ttotal: 316ms\tremaining: 1.41s\n",
      "55:\tlearn: 0.9062721\ttest: 0.8460696\tbest: 0.8484518 (35)\ttotal: 321ms\tremaining: 1.4s\n",
      "56:\tlearn: 0.9086662\ttest: 0.8447363\tbest: 0.8484518 (35)\ttotal: 326ms\tremaining: 1.39s\n",
      "57:\tlearn: 0.9087340\ttest: 0.8463414\tbest: 0.8484518 (35)\ttotal: 330ms\tremaining: 1.38s\n",
      "58:\tlearn: 0.9082689\ttest: 0.8455388\tbest: 0.8484518 (35)\ttotal: 336ms\tremaining: 1.37s\n",
      "59:\tlearn: 0.9109965\ttest: 0.8420696\tbest: 0.8484518 (35)\ttotal: 340ms\tremaining: 1.36s\n",
      "60:\tlearn: 0.9113961\ttest: 0.8428721\tbest: 0.8484518 (35)\ttotal: 345ms\tremaining: 1.35s\n",
      "61:\tlearn: 0.9129270\ttest: 0.8426004\tbest: 0.8484518 (35)\ttotal: 351ms\tremaining: 1.35s\n",
      "62:\tlearn: 0.9149231\ttest: 0.8412670\tbest: 0.8484518 (35)\ttotal: 356ms\tremaining: 1.34s\n",
      "63:\tlearn: 0.9159865\ttest: 0.8439465\tbest: 0.8484518 (35)\ttotal: 360ms\tremaining: 1.33s\n",
      "64:\tlearn: 0.9163191\ttest: 0.8434157\tbest: 0.8484518 (35)\ttotal: 365ms\tremaining: 1.32s\n",
      "65:\tlearn: 0.9187156\ttest: 0.8444773\tbest: 0.8484518 (35)\ttotal: 370ms\tremaining: 1.31s\n",
      "66:\tlearn: 0.9195142\ttest: 0.8442055\tbest: 0.8484518 (35)\ttotal: 374ms\tremaining: 1.3s\n",
      "67:\tlearn: 0.9212430\ttest: 0.8447363\tbest: 0.8484518 (35)\ttotal: 379ms\tremaining: 1.29s\n",
      "68:\tlearn: 0.9221085\ttest: 0.8417978\tbest: 0.8484518 (35)\ttotal: 385ms\tremaining: 1.29s\n",
      "69:\tlearn: 0.9233730\ttest: 0.8490081\tbest: 0.8490081 (69)\ttotal: 390ms\tremaining: 1.28s\n",
      "70:\tlearn: 0.9253674\ttest: 0.8455261\tbest: 0.8490081 (69)\ttotal: 395ms\tremaining: 1.27s\n",
      "71:\tlearn: 0.9249023\ttest: 0.8468594\tbest: 0.8490081 (69)\ttotal: 400ms\tremaining: 1.27s\n",
      "72:\tlearn: 0.9252350\ttest: 0.8500697\tbest: 0.8500697 (72)\ttotal: 405ms\tremaining: 1.26s\n",
      "73:\tlearn: 0.9260343\ttest: 0.8514158\tbest: 0.8514158 (73)\ttotal: 410ms\tremaining: 1.25s\n",
      "74:\tlearn: 0.9290276\ttest: 0.8484773\tbest: 0.8514158 (73)\ttotal: 414ms\tremaining: 1.24s\n",
      "75:\tlearn: 0.9306247\ttest: 0.8466132\tbest: 0.8514158 (73)\ttotal: 420ms\tremaining: 1.24s\n",
      "76:\tlearn: 0.9311568\ttest: 0.8468850\tbest: 0.8514158 (73)\ttotal: 425ms\tremaining: 1.23s\n",
      "77:\tlearn: 0.9334193\ttest: 0.8458106\tbest: 0.8514158 (73)\ttotal: 430ms\tremaining: 1.22s\n",
      "78:\tlearn: 0.9338851\ttest: 0.8447491\tbest: 0.8514158 (73)\ttotal: 435ms\tremaining: 1.22s\n",
      "79:\tlearn: 0.9366143\ttest: 0.8460824\tbest: 0.8514158 (73)\ttotal: 440ms\tremaining: 1.21s\n",
      "80:\tlearn: 0.9371456\ttest: 0.8455516\tbest: 0.8514158 (73)\ttotal: 446ms\tremaining: 1.21s\n",
      "81:\tlearn: 0.9379434\ttest: 0.8450208\tbest: 0.8514158 (73)\ttotal: 451ms\tremaining: 1.2s\n",
      "82:\tlearn: 0.9382106\ttest: 0.8452798\tbest: 0.8514158 (73)\ttotal: 456ms\tremaining: 1.19s\n",
      "83:\tlearn: 0.9393411\ttest: 0.8458106\tbest: 0.8514158 (73)\ttotal: 461ms\tremaining: 1.19s\n",
      "84:\tlearn: 0.9400056\ttest: 0.8463414\tbest: 0.8514158 (73)\ttotal: 466ms\tremaining: 1.18s\n",
      "85:\tlearn: 0.9406717\ttest: 0.8482056\tbest: 0.8514158 (73)\ttotal: 472ms\tremaining: 1.17s\n",
      "86:\tlearn: 0.9410714\ttest: 0.8468594\tbest: 0.8514158 (73)\ttotal: 476ms\tremaining: 1.17s\n",
      "87:\tlearn: 0.9428018\ttest: 0.8457851\tbest: 0.8514158 (73)\ttotal: 481ms\tremaining: 1.16s\n",
      "88:\tlearn: 0.9436666\ttest: 0.8455261\tbest: 0.8514158 (73)\ttotal: 486ms\tremaining: 1.15s\n",
      "89:\tlearn: 0.9441317\ttest: 0.8463286\tbest: 0.8514158 (73)\ttotal: 491ms\tremaining: 1.14s\n",
      "90:\tlearn: 0.9442649\ttest: 0.8463286\tbest: 0.8514158 (73)\ttotal: 495ms\tremaining: 1.14s\n",
      "91:\tlearn: 0.9452637\ttest: 0.8441927\tbest: 0.8514158 (73)\ttotal: 500ms\tremaining: 1.13s\n",
      "92:\tlearn: 0.9461285\ttest: 0.8425876\tbest: 0.8514158 (73)\ttotal: 505ms\tremaining: 1.12s\n",
      "93:\tlearn: 0.9470587\ttest: 0.8417850\tbest: 0.8514158 (73)\ttotal: 510ms\tremaining: 1.12s\n",
      "94:\tlearn: 0.9485888\ttest: 0.8383157\tbest: 0.8514158 (73)\ttotal: 516ms\tremaining: 1.11s\n",
      "95:\tlearn: 0.9502521\ttest: 0.8401927\tbest: 0.8514158 (73)\ttotal: 520ms\tremaining: 1.1s\n",
      "96:\tlearn: 0.9509174\ttest: 0.8393901\tbest: 0.8514158 (73)\ttotal: 525ms\tremaining: 1.1s\n",
      "97:\tlearn: 0.9503183\ttest: 0.8396619\tbest: 0.8514158 (73)\ttotal: 529ms\tremaining: 1.09s\n",
      "98:\tlearn: 0.9514496\ttest: 0.8399336\tbest: 0.8514158 (73)\ttotal: 535ms\tremaining: 1.08s\n",
      "99:\tlearn: 0.9521819\ttest: 0.8396619\tbest: 0.8514158 (73)\ttotal: 540ms\tremaining: 1.08s\n",
      "100:\tlearn: 0.9529127\ttest: 0.8407362\tbest: 0.8514158 (73)\ttotal: 544ms\tremaining: 1.07s\n",
      "101:\tlearn: 0.9547092\ttest: 0.8420696\tbest: 0.8514158 (73)\ttotal: 550ms\tremaining: 1.07s\n",
      "102:\tlearn: 0.9541771\ttest: 0.8417978\tbest: 0.8514158 (73)\ttotal: 555ms\tremaining: 1.06s\n",
      "103:\tlearn: 0.9543103\ttest: 0.8380567\tbest: 0.8514158 (73)\ttotal: 559ms\tremaining: 1.05s\n",
      "104:\tlearn: 0.9544436\ttest: 0.8385875\tbest: 0.8514158 (73)\ttotal: 564ms\tremaining: 1.05s\n",
      "105:\tlearn: 0.9547762\ttest: 0.8393901\tbest: 0.8514158 (73)\ttotal: 568ms\tremaining: 1.04s\n",
      "106:\tlearn: 0.9559745\ttest: 0.8399209\tbest: 0.8514158 (73)\ttotal: 573ms\tremaining: 1.03s\n",
      "107:\tlearn: 0.9569717\ttest: 0.8441927\tbest: 0.8514158 (73)\ttotal: 577ms\tremaining: 1.02s\n",
      "108:\tlearn: 0.9571711\ttest: 0.8441927\tbest: 0.8514158 (73)\ttotal: 582ms\tremaining: 1.02s\n",
      "109:\tlearn: 0.9573044\ttest: 0.8449953\tbest: 0.8514158 (73)\ttotal: 587ms\tremaining: 1.01s\n",
      "110:\tlearn: 0.9576370\ttest: 0.8468722\tbest: 0.8514158 (73)\ttotal: 592ms\tremaining: 1.01s\n",
      "111:\tlearn: 0.9571711\ttest: 0.8468722\tbest: 0.8514158 (73)\ttotal: 596ms\tremaining: 1s\n",
      "112:\tlearn: 0.9583686\ttest: 0.8476748\tbest: 0.8514158 (73)\ttotal: 601ms\tremaining: 994ms\n",
      "113:\tlearn: 0.9583686\ttest: 0.8476748\tbest: 0.8514158 (73)\ttotal: 605ms\tremaining: 987ms\n",
      "114:\tlearn: 0.9594998\ttest: 0.8476748\tbest: 0.8514158 (73)\ttotal: 610ms\tremaining: 981ms\n",
      "115:\tlearn: 0.9594998\ttest: 0.8468722\tbest: 0.8514158 (73)\ttotal: 615ms\tremaining: 976ms\n",
      "116:\tlearn: 0.9612286\ttest: 0.8460696\tbest: 0.8514158 (73)\ttotal: 620ms\tremaining: 969ms\n",
      "117:\tlearn: 0.9620287\ttest: 0.8466004\tbest: 0.8514158 (73)\ttotal: 624ms\tremaining: 963ms\n",
      "118:\tlearn: 0.9617631\ttest: 0.8428721\tbest: 0.8514158 (73)\ttotal: 629ms\tremaining: 957ms\n",
      "119:\tlearn: 0.9616298\ttest: 0.8433901\tbest: 0.8514158 (73)\ttotal: 634ms\tremaining: 952ms\n",
      "120:\tlearn: 0.9619625\ttest: 0.8439337\tbest: 0.8514158 (73)\ttotal: 639ms\tremaining: 945ms\n",
      "121:\tlearn: 0.9628273\ttest: 0.8412542\tbest: 0.8514158 (73)\ttotal: 644ms\tremaining: 939ms\n",
      "122:\tlearn: 0.9638907\ttest: 0.8436619\tbest: 0.8514158 (73)\ttotal: 649ms\tremaining: 934ms\n",
      "123:\tlearn: 0.9647555\ttest: 0.8433901\tbest: 0.8514158 (73)\ttotal: 654ms\tremaining: 928ms\n",
      "124:\tlearn: 0.9660854\ttest: 0.8428466\tbest: 0.8514158 (73)\ttotal: 662ms\tremaining: 926ms\n",
      "125:\tlearn: 0.9659521\ttest: 0.8428466\tbest: 0.8514158 (73)\ttotal: 667ms\tremaining: 921ms\n",
      "126:\tlearn: 0.9656195\ttest: 0.8401799\tbest: 0.8514158 (73)\ttotal: 673ms\tremaining: 916ms\n",
      "127:\tlearn: 0.9656195\ttest: 0.8407107\tbest: 0.8514158 (73)\ttotal: 677ms\tremaining: 910ms\n",
      "128:\tlearn: 0.9678811\ttest: 0.8399209\tbest: 0.8514158 (73)\ttotal: 683ms\tremaining: 906ms\n",
      "129:\tlearn: 0.9684132\ttest: 0.8375132\tbest: 0.8514158 (73)\ttotal: 688ms\tremaining: 900ms\n",
      "130:\tlearn: 0.9681476\ttest: 0.8388465\tbest: 0.8514158 (73)\ttotal: 693ms\tremaining: 894ms\n",
      "131:\tlearn: 0.9686135\ttest: 0.8367106\tbest: 0.8514158 (73)\ttotal: 698ms\tremaining: 888ms\n",
      "132:\tlearn: 0.9698771\ttest: 0.8372414\tbest: 0.8514158 (73)\ttotal: 703ms\tremaining: 883ms\n",
      "133:\tlearn: 0.9696777\ttest: 0.8367106\tbest: 0.8514158 (73)\ttotal: 708ms\tremaining: 877ms\n",
      "134:\tlearn: 0.9700104\ttest: 0.8388465\tbest: 0.8514158 (73)\ttotal: 713ms\tremaining: 872ms\n",
      "135:\tlearn: 0.9700104\ttest: 0.8388465\tbest: 0.8514158 (73)\ttotal: 718ms\tremaining: 866ms\n",
      "136:\tlearn: 0.9707419\ttest: 0.8383157\tbest: 0.8514158 (73)\ttotal: 722ms\tremaining: 859ms\n",
      "137:\tlearn: 0.9706087\ttest: 0.8377849\tbest: 0.8514158 (73)\ttotal: 727ms\tremaining: 854ms\n",
      "138:\tlearn: 0.9713403\ttest: 0.8375132\tbest: 0.8514158 (73)\ttotal: 732ms\tremaining: 848ms\n",
      "139:\tlearn: 0.9716059\ttest: 0.8369824\tbest: 0.8514158 (73)\ttotal: 737ms\tremaining: 842ms\n",
      "140:\tlearn: 0.9716729\ttest: 0.8377849\tbest: 0.8514158 (73)\ttotal: 742ms\tremaining: 836ms\n",
      "141:\tlearn: 0.9714735\ttest: 0.8369824\tbest: 0.8514158 (73)\ttotal: 747ms\tremaining: 831ms\n",
      "142:\tlearn: 0.9711408\ttest: 0.8369824\tbest: 0.8514158 (73)\ttotal: 752ms\tremaining: 826ms\n",
      "143:\tlearn: 0.9713403\ttest: 0.8377849\tbest: 0.8514158 (73)\ttotal: 757ms\tremaining: 820ms\n",
      "144:\tlearn: 0.9716729\ttest: 0.8361798\tbest: 0.8514158 (73)\ttotal: 762ms\tremaining: 815ms\n",
      "145:\tlearn: 0.9727363\ttest: 0.8372542\tbest: 0.8514158 (73)\ttotal: 768ms\tremaining: 810ms\n",
      "146:\tlearn: 0.9725369\ttest: 0.8372542\tbest: 0.8514158 (73)\ttotal: 772ms\tremaining: 803ms\n",
      "147:\tlearn: 0.9735349\ttest: 0.8383157\tbest: 0.8514158 (73)\ttotal: 776ms\tremaining: 797ms\n",
      "148:\tlearn: 0.9728696\ttest: 0.8391183\tbest: 0.8514158 (73)\ttotal: 782ms\tremaining: 792ms\n",
      "149:\tlearn: 0.9733355\ttest: 0.8407234\tbest: 0.8514158 (73)\ttotal: 786ms\tremaining: 786ms\n",
      "150:\tlearn: 0.9740008\ttest: 0.8393901\tbest: 0.8514158 (73)\ttotal: 791ms\tremaining: 780ms\n",
      "151:\tlearn: 0.9741340\ttest: 0.8399209\tbest: 0.8514158 (73)\ttotal: 796ms\tremaining: 775ms\n",
      "152:\tlearn: 0.9747332\ttest: 0.8404517\tbest: 0.8514158 (73)\ttotal: 801ms\tremaining: 769ms\n",
      "153:\tlearn: 0.9751320\ttest: 0.8415260\tbest: 0.8514158 (73)\ttotal: 805ms\tremaining: 764ms\n",
      "154:\tlearn: 0.9751320\ttest: 0.8415260\tbest: 0.8514158 (73)\ttotal: 810ms\tremaining: 758ms\n",
      "155:\tlearn: 0.9753315\ttest: 0.8407234\tbest: 0.8514158 (73)\ttotal: 815ms\tremaining: 752ms\n",
      "156:\tlearn: 0.9754647\ttest: 0.8420440\tbest: 0.8514158 (73)\ttotal: 820ms\tremaining: 746ms\n",
      "157:\tlearn: 0.9757974\ttest: 0.8425748\tbest: 0.8514158 (73)\ttotal: 824ms\tremaining: 740ms\n",
      "158:\tlearn: 0.9765289\ttest: 0.8415132\tbest: 0.8514158 (73)\ttotal: 830ms\tremaining: 736ms\n",
      "159:\tlearn: 0.9773267\ttest: 0.8420440\tbest: 0.8514158 (73)\ttotal: 834ms\tremaining: 730ms\n",
      "160:\tlearn: 0.9781253\ttest: 0.8452543\tbest: 0.8514158 (73)\ttotal: 839ms\tremaining: 724ms\n",
      "161:\tlearn: 0.9781253\ttest: 0.8423158\tbest: 0.8514158 (73)\ttotal: 845ms\tremaining: 720ms\n",
      "162:\tlearn: 0.9775269\ttest: 0.8417850\tbest: 0.8514158 (73)\ttotal: 850ms\tremaining: 714ms\n",
      "163:\tlearn: 0.9781253\ttest: 0.8420568\tbest: 0.8514158 (73)\ttotal: 855ms\tremaining: 709ms\n",
      "164:\tlearn: 0.9785241\ttest: 0.8407234\tbest: 0.8514158 (73)\ttotal: 860ms\tremaining: 704ms\n",
      "165:\tlearn: 0.9781253\ttest: 0.8412542\tbest: 0.8514158 (73)\ttotal: 867ms\tremaining: 699ms\n",
      "166:\tlearn: 0.9784579\ttest: 0.8420568\tbest: 0.8514158 (73)\ttotal: 872ms\tremaining: 694ms\n",
      "167:\tlearn: 0.9786574\ttest: 0.8417850\tbest: 0.8514158 (73)\ttotal: 878ms\tremaining: 690ms\n",
      "168:\tlearn: 0.9786574\ttest: 0.8420568\tbest: 0.8514158 (73)\ttotal: 883ms\tremaining: 684ms\n",
      "169:\tlearn: 0.9785241\ttest: 0.8420568\tbest: 0.8514158 (73)\ttotal: 887ms\tremaining: 679ms\n",
      "170:\tlearn: 0.9789900\ttest: 0.8396619\tbest: 0.8514158 (73)\ttotal: 892ms\tremaining: 673ms\n",
      "171:\tlearn: 0.9797216\ttest: 0.8380567\tbest: 0.8514158 (73)\ttotal: 897ms\tremaining: 668ms\n",
      "172:\tlearn: 0.9801867\ttest: 0.8385875\tbest: 0.8514158 (73)\ttotal: 902ms\tremaining: 662ms\n",
      "173:\tlearn: 0.9799872\ttest: 0.8399209\tbest: 0.8514158 (73)\ttotal: 907ms\tremaining: 657ms\n",
      "174:\tlearn: 0.9809182\ttest: 0.8412542\tbest: 0.8514158 (73)\ttotal: 913ms\tremaining: 652ms\n",
      "175:\tlearn: 0.9809182\ttest: 0.8412542\tbest: 0.8514158 (73)\ttotal: 918ms\tremaining: 647ms\n",
      "176:\tlearn: 0.9811177\ttest: 0.8407234\tbest: 0.8514158 (73)\ttotal: 923ms\tremaining: 641ms\n",
      "177:\tlearn: 0.9817830\ttest: 0.8409952\tbest: 0.8514158 (73)\ttotal: 928ms\tremaining: 636ms\n",
      "178:\tlearn: 0.9825146\ttest: 0.8409952\tbest: 0.8514158 (73)\ttotal: 933ms\tremaining: 630ms\n",
      "179:\tlearn: 0.9831129\ttest: 0.8399336\tbest: 0.8514158 (73)\ttotal: 937ms\tremaining: 625ms\n",
      "180:\tlearn: 0.9833123\ttest: 0.8386003\tbest: 0.8514158 (73)\ttotal: 942ms\tremaining: 619ms\n",
      "181:\tlearn: 0.9835118\ttest: 0.8383285\tbest: 0.8514158 (73)\ttotal: 946ms\tremaining: 614ms\n",
      "182:\tlearn: 0.9835118\ttest: 0.8393901\tbest: 0.8514158 (73)\ttotal: 951ms\tremaining: 608ms\n",
      "183:\tlearn: 0.9835118\ttest: 0.8385875\tbest: 0.8514158 (73)\ttotal: 956ms\tremaining: 602ms\n",
      "184:\tlearn: 0.9837112\ttest: 0.8391183\tbest: 0.8514158 (73)\ttotal: 961ms\tremaining: 598ms\n",
      "185:\tlearn: 0.9837112\ttest: 0.8391183\tbest: 0.8514158 (73)\ttotal: 966ms\tremaining: 592ms\n",
      "186:\tlearn: 0.9837112\ttest: 0.8399209\tbest: 0.8514158 (73)\ttotal: 970ms\tremaining: 586ms\n",
      "187:\tlearn: 0.9843095\ttest: 0.8385875\tbest: 0.8514158 (73)\ttotal: 976ms\tremaining: 581ms\n",
      "188:\tlearn: 0.9841101\ttest: 0.8407234\tbest: 0.8514158 (73)\ttotal: 981ms\tremaining: 576ms\n",
      "189:\tlearn: 0.9841101\ttest: 0.8407234\tbest: 0.8514158 (73)\ttotal: 986ms\tremaining: 571ms\n",
      "190:\tlearn: 0.9837112\ttest: 0.8409952\tbest: 0.8514158 (73)\ttotal: 991ms\tremaining: 566ms\n",
      "191:\tlearn: 0.9841101\ttest: 0.8409952\tbest: 0.8514158 (73)\ttotal: 1.01s\tremaining: 566ms\n",
      "192:\tlearn: 0.9841101\ttest: 0.8404644\tbest: 0.8514158 (73)\ttotal: 1.01s\tremaining: 561ms\n",
      "193:\tlearn: 0.9849079\ttest: 0.8420568\tbest: 0.8514158 (73)\ttotal: 1.02s\tremaining: 556ms\n",
      "194:\tlearn: 0.9849079\ttest: 0.8407234\tbest: 0.8514158 (73)\ttotal: 1.02s\tremaining: 551ms\n",
      "195:\tlearn: 0.9853067\ttest: 0.8412542\tbest: 0.8514158 (73)\ttotal: 1.03s\tremaining: 546ms\n",
      "196:\tlearn: 0.9851073\ttest: 0.8412542\tbest: 0.8514158 (73)\ttotal: 1.03s\tremaining: 540ms\n",
      "197:\tlearn: 0.9851073\ttest: 0.8412542\tbest: 0.8514158 (73)\ttotal: 1.04s\tremaining: 535ms\n",
      "198:\tlearn: 0.9851073\ttest: 0.8404517\tbest: 0.8514158 (73)\ttotal: 1.04s\tremaining: 530ms\n",
      "199:\tlearn: 0.9855062\ttest: 0.8404517\tbest: 0.8514158 (73)\ttotal: 1.05s\tremaining: 525ms\n",
      "200:\tlearn: 0.9857056\ttest: 0.8412542\tbest: 0.8514158 (73)\ttotal: 1.05s\tremaining: 519ms\n",
      "201:\tlearn: 0.9861045\ttest: 0.8412542\tbest: 0.8514158 (73)\ttotal: 1.06s\tremaining: 514ms\n",
      "202:\tlearn: 0.9859051\ttest: 0.8425876\tbest: 0.8514158 (73)\ttotal: 1.06s\tremaining: 509ms\n",
      "203:\tlearn: 0.9861045\ttest: 0.8425876\tbest: 0.8514158 (73)\ttotal: 1.07s\tremaining: 504ms\n",
      "204:\tlearn: 0.9863039\ttest: 0.8420568\tbest: 0.8514158 (73)\ttotal: 1.08s\tremaining: 499ms\n",
      "205:\tlearn: 0.9861045\ttest: 0.8420568\tbest: 0.8514158 (73)\ttotal: 1.08s\tremaining: 493ms\n",
      "206:\tlearn: 0.9859051\ttest: 0.8428594\tbest: 0.8514158 (73)\ttotal: 1.08s\tremaining: 488ms\n",
      "207:\tlearn: 0.9859051\ttest: 0.8428594\tbest: 0.8514158 (73)\ttotal: 1.09s\tremaining: 483ms\n",
      "208:\tlearn: 0.9863039\ttest: 0.8428594\tbest: 0.8514158 (73)\ttotal: 1.1s\tremaining: 477ms\n",
      "209:\tlearn: 0.9862377\ttest: 0.8428594\tbest: 0.8514158 (73)\ttotal: 1.1s\tremaining: 472ms\n",
      "210:\tlearn: 0.9865704\ttest: 0.8436619\tbest: 0.8514158 (73)\ttotal: 1.11s\tremaining: 467ms\n",
      "211:\tlearn: 0.9865704\ttest: 0.8457978\tbest: 0.8514158 (73)\ttotal: 1.11s\tremaining: 461ms\n",
      "212:\tlearn: 0.9869693\ttest: 0.8441927\tbest: 0.8514158 (73)\ttotal: 1.12s\tremaining: 456ms\n",
      "213:\tlearn: 0.9872357\ttest: 0.8433901\tbest: 0.8514158 (73)\ttotal: 1.12s\tremaining: 451ms\n",
      "214:\tlearn: 0.9876346\ttest: 0.8415260\tbest: 0.8514158 (73)\ttotal: 1.13s\tremaining: 445ms\n",
      "215:\tlearn: 0.9877008\ttest: 0.8428594\tbest: 0.8514158 (73)\ttotal: 1.13s\tremaining: 440ms\n",
      "216:\tlearn: 0.9879003\ttest: 0.8428594\tbest: 0.8514158 (73)\ttotal: 1.14s\tremaining: 434ms\n",
      "217:\tlearn: 0.9882992\ttest: 0.8420568\tbest: 0.8514158 (73)\ttotal: 1.14s\tremaining: 429ms\n",
      "218:\tlearn: 0.9884986\ttest: 0.8399209\tbest: 0.8514158 (73)\ttotal: 1.15s\tremaining: 424ms\n",
      "219:\tlearn: 0.9884986\ttest: 0.8407234\tbest: 0.8514158 (73)\ttotal: 1.15s\tremaining: 418ms\n",
      "220:\tlearn: 0.9884986\ttest: 0.8401927\tbest: 0.8514158 (73)\ttotal: 1.16s\tremaining: 413ms\n",
      "221:\tlearn: 0.9882992\ttest: 0.8401927\tbest: 0.8514158 (73)\ttotal: 1.16s\tremaining: 408ms\n",
      "222:\tlearn: 0.9886980\ttest: 0.8401927\tbest: 0.8514158 (73)\ttotal: 1.17s\tremaining: 403ms\n",
      "223:\tlearn: 0.9884986\ttest: 0.8407234\tbest: 0.8514158 (73)\ttotal: 1.17s\tremaining: 397ms\n",
      "224:\tlearn: 0.9882992\ttest: 0.8396491\tbest: 0.8514158 (73)\ttotal: 1.18s\tremaining: 392ms\n",
      "225:\tlearn: 0.9882992\ttest: 0.8391183\tbest: 0.8514158 (73)\ttotal: 1.18s\tremaining: 387ms\n",
      "226:\tlearn: 0.9882992\ttest: 0.8391183\tbest: 0.8514158 (73)\ttotal: 1.19s\tremaining: 381ms\n",
      "227:\tlearn: 0.9882992\ttest: 0.8380439\tbest: 0.8514158 (73)\ttotal: 1.19s\tremaining: 376ms\n",
      "228:\tlearn: 0.9884986\ttest: 0.8369824\tbest: 0.8514158 (73)\ttotal: 1.2s\tremaining: 371ms\n",
      "229:\tlearn: 0.9884986\ttest: 0.8364516\tbest: 0.8514158 (73)\ttotal: 1.31s\tremaining: 400ms\n",
      "230:\tlearn: 0.9884986\ttest: 0.8353900\tbest: 0.8514158 (73)\ttotal: 1.32s\tremaining: 396ms\n",
      "231:\tlearn: 0.9888975\ttest: 0.8399209\tbest: 0.8514158 (73)\ttotal: 1.33s\tremaining: 390ms\n",
      "232:\tlearn: 0.9890969\ttest: 0.8383157\tbest: 0.8514158 (73)\ttotal: 1.34s\tremaining: 384ms\n",
      "233:\tlearn: 0.9890969\ttest: 0.8391183\tbest: 0.8514158 (73)\ttotal: 1.34s\tremaining: 378ms\n",
      "234:\tlearn: 0.9890969\ttest: 0.8399209\tbest: 0.8514158 (73)\ttotal: 1.35s\tremaining: 372ms\n",
      "235:\tlearn: 0.9890969\ttest: 0.8407234\tbest: 0.8514158 (73)\ttotal: 1.35s\tremaining: 367ms\n",
      "236:\tlearn: 0.9890969\ttest: 0.8415260\tbest: 0.8514158 (73)\ttotal: 1.36s\tremaining: 361ms\n",
      "237:\tlearn: 0.9888975\ttest: 0.8415260\tbest: 0.8514158 (73)\ttotal: 1.36s\tremaining: 355ms\n",
      "238:\tlearn: 0.9892964\ttest: 0.8431311\tbest: 0.8514158 (73)\ttotal: 1.37s\tremaining: 349ms\n",
      "239:\tlearn: 0.9892964\ttest: 0.8399336\tbest: 0.8514158 (73)\ttotal: 1.37s\tremaining: 343ms\n",
      "240:\tlearn: 0.9892964\ttest: 0.8404644\tbest: 0.8514158 (73)\ttotal: 1.38s\tremaining: 337ms\n",
      "241:\tlearn: 0.9892964\ttest: 0.8396619\tbest: 0.8514158 (73)\ttotal: 1.38s\tremaining: 331ms\n",
      "242:\tlearn: 0.9892964\ttest: 0.8393901\tbest: 0.8514158 (73)\ttotal: 1.39s\tremaining: 325ms\n",
      "243:\tlearn: 0.9892964\ttest: 0.8404644\tbest: 0.8514158 (73)\ttotal: 1.39s\tremaining: 319ms\n",
      "244:\tlearn: 0.9892964\ttest: 0.8394029\tbest: 0.8514158 (73)\ttotal: 1.4s\tremaining: 314ms\n",
      "245:\tlearn: 0.9892964\ttest: 0.8407362\tbest: 0.8514158 (73)\ttotal: 1.4s\tremaining: 308ms\n",
      "246:\tlearn: 0.9892964\ttest: 0.8407362\tbest: 0.8514158 (73)\ttotal: 1.41s\tremaining: 302ms\n",
      "247:\tlearn: 0.9894958\ttest: 0.8423414\tbest: 0.8514158 (73)\ttotal: 1.41s\tremaining: 296ms\n",
      "248:\tlearn: 0.9898947\ttest: 0.8428721\tbest: 0.8514158 (73)\ttotal: 1.42s\tremaining: 290ms\n",
      "249:\tlearn: 0.9898947\ttest: 0.8404644\tbest: 0.8514158 (73)\ttotal: 1.42s\tremaining: 284ms\n",
      "250:\tlearn: 0.9898947\ttest: 0.8391311\tbest: 0.8514158 (73)\ttotal: 1.43s\tremaining: 279ms\n",
      "251:\tlearn: 0.9898947\ttest: 0.8404644\tbest: 0.8514158 (73)\ttotal: 1.43s\tremaining: 273ms\n",
      "252:\tlearn: 0.9900941\ttest: 0.8404644\tbest: 0.8514158 (73)\ttotal: 1.44s\tremaining: 267ms\n",
      "253:\tlearn: 0.9898947\ttest: 0.8409952\tbest: 0.8514158 (73)\ttotal: 1.44s\tremaining: 261ms\n",
      "254:\tlearn: 0.9902936\ttest: 0.8409952\tbest: 0.8514158 (73)\ttotal: 1.45s\tremaining: 255ms\n",
      "255:\tlearn: 0.9902936\ttest: 0.8412670\tbest: 0.8514158 (73)\ttotal: 1.45s\tremaining: 249ms\n",
      "256:\tlearn: 0.9902936\ttest: 0.8412670\tbest: 0.8514158 (73)\ttotal: 1.46s\tremaining: 244ms\n",
      "257:\tlearn: 0.9902274\ttest: 0.8415388\tbest: 0.8514158 (73)\ttotal: 1.46s\tremaining: 238ms\n",
      "258:\tlearn: 0.9902936\ttest: 0.8407362\tbest: 0.8514158 (73)\ttotal: 1.47s\tremaining: 232ms\n",
      "259:\tlearn: 0.9904930\ttest: 0.8407362\tbest: 0.8514158 (73)\ttotal: 1.47s\tremaining: 226ms\n",
      "260:\tlearn: 0.9904930\ttest: 0.8399336\tbest: 0.8514158 (73)\ttotal: 1.48s\tremaining: 221ms\n",
      "261:\tlearn: 0.9904930\ttest: 0.8407362\tbest: 0.8514158 (73)\ttotal: 1.48s\tremaining: 215ms\n",
      "262:\tlearn: 0.9904930\ttest: 0.8404644\tbest: 0.8514158 (73)\ttotal: 1.49s\tremaining: 209ms\n",
      "263:\tlearn: 0.9904930\ttest: 0.8391311\tbest: 0.8514158 (73)\ttotal: 1.49s\tremaining: 203ms\n",
      "264:\tlearn: 0.9906925\ttest: 0.8391311\tbest: 0.8514158 (73)\ttotal: 1.5s\tremaining: 198ms\n",
      "265:\tlearn: 0.9904930\ttest: 0.8391311\tbest: 0.8514158 (73)\ttotal: 1.5s\tremaining: 192ms\n",
      "266:\tlearn: 0.9908257\ttest: 0.8396619\tbest: 0.8514158 (73)\ttotal: 1.51s\tremaining: 186ms\n",
      "267:\tlearn: 0.9908257\ttest: 0.8369952\tbest: 0.8514158 (73)\ttotal: 1.51s\tremaining: 180ms\n",
      "268:\tlearn: 0.9908257\ttest: 0.8375259\tbest: 0.8514158 (73)\ttotal: 1.52s\tremaining: 175ms\n",
      "269:\tlearn: 0.9908257\ttest: 0.8369952\tbest: 0.8514158 (73)\ttotal: 1.52s\tremaining: 169ms\n",
      "270:\tlearn: 0.9910251\ttest: 0.8375259\tbest: 0.8514158 (73)\ttotal: 1.53s\tremaining: 163ms\n",
      "271:\tlearn: 0.9914240\ttest: 0.8367234\tbest: 0.8514158 (73)\ttotal: 1.53s\tremaining: 158ms\n",
      "272:\tlearn: 0.9914240\ttest: 0.8383285\tbest: 0.8514158 (73)\ttotal: 1.54s\tremaining: 152ms\n",
      "273:\tlearn: 0.9914240\ttest: 0.8383285\tbest: 0.8514158 (73)\ttotal: 1.54s\tremaining: 146ms\n",
      "274:\tlearn: 0.9914240\ttest: 0.8391311\tbest: 0.8514158 (73)\ttotal: 1.55s\tremaining: 141ms\n",
      "275:\tlearn: 0.9920223\ttest: 0.8380567\tbest: 0.8514158 (73)\ttotal: 1.55s\tremaining: 135ms\n",
      "276:\tlearn: 0.9920223\ttest: 0.8364516\tbest: 0.8514158 (73)\ttotal: 1.56s\tremaining: 129ms\n",
      "277:\tlearn: 0.9920223\ttest: 0.8359208\tbest: 0.8514158 (73)\ttotal: 1.56s\tremaining: 124ms\n",
      "278:\tlearn: 0.9920223\ttest: 0.8367234\tbest: 0.8514158 (73)\ttotal: 1.57s\tremaining: 118ms\n",
      "279:\tlearn: 0.9920223\ttest: 0.8372542\tbest: 0.8514158 (73)\ttotal: 1.57s\tremaining: 112ms\n",
      "280:\tlearn: 0.9920223\ttest: 0.8380567\tbest: 0.8514158 (73)\ttotal: 1.58s\tremaining: 107ms\n",
      "281:\tlearn: 0.9920223\ttest: 0.8380567\tbest: 0.8514158 (73)\ttotal: 1.58s\tremaining: 101ms\n",
      "282:\tlearn: 0.9920223\ttest: 0.8372542\tbest: 0.8514158 (73)\ttotal: 1.59s\tremaining: 95.4ms\n",
      "283:\tlearn: 0.9918229\ttest: 0.8391183\tbest: 0.8514158 (73)\ttotal: 1.59s\tremaining: 89.7ms\n",
      "284:\tlearn: 0.9918229\ttest: 0.8396491\tbest: 0.8514158 (73)\ttotal: 1.6s\tremaining: 84.1ms\n",
      "285:\tlearn: 0.9922218\ttest: 0.8396491\tbest: 0.8514158 (73)\ttotal: 1.6s\tremaining: 78.4ms\n",
      "286:\tlearn: 0.9922218\ttest: 0.8377849\tbest: 0.8514158 (73)\ttotal: 1.61s\tremaining: 72.8ms\n",
      "287:\tlearn: 0.9922218\ttest: 0.8367234\tbest: 0.8514158 (73)\ttotal: 1.61s\tremaining: 67.2ms\n",
      "288:\tlearn: 0.9922218\ttest: 0.8388593\tbest: 0.8514158 (73)\ttotal: 1.62s\tremaining: 61.5ms\n",
      "289:\tlearn: 0.9922218\ttest: 0.8388593\tbest: 0.8514158 (73)\ttotal: 1.62s\tremaining: 55.9ms\n",
      "290:\tlearn: 0.9922218\ttest: 0.8393901\tbest: 0.8514158 (73)\ttotal: 1.63s\tremaining: 50.3ms\n",
      "291:\tlearn: 0.9922218\ttest: 0.8393901\tbest: 0.8514158 (73)\ttotal: 1.63s\tremaining: 44.7ms\n",
      "292:\tlearn: 0.9922218\ttest: 0.8393901\tbest: 0.8514158 (73)\ttotal: 1.64s\tremaining: 39.1ms\n",
      "293:\tlearn: 0.9924212\ttest: 0.8391183\tbest: 0.8514158 (73)\ttotal: 1.64s\tremaining: 33.5ms\n",
      "294:\tlearn: 0.9924212\ttest: 0.8393901\tbest: 0.8514158 (73)\ttotal: 1.65s\tremaining: 27.9ms\n",
      "295:\tlearn: 0.9924212\ttest: 0.8401927\tbest: 0.8514158 (73)\ttotal: 1.65s\tremaining: 22.3ms\n",
      "296:\tlearn: 0.9924212\ttest: 0.8393901\tbest: 0.8514158 (73)\ttotal: 1.66s\tremaining: 16.7ms\n",
      "297:\tlearn: 0.9924212\ttest: 0.8399209\tbest: 0.8514158 (73)\ttotal: 1.66s\tremaining: 11.1ms\n",
      "298:\tlearn: 0.9924212\ttest: 0.8404517\tbest: 0.8514158 (73)\ttotal: 1.67s\tremaining: 5.57ms\n",
      "299:\tlearn: 0.9924212\ttest: 0.8396491\tbest: 0.8514158 (73)\ttotal: 1.67s\tremaining: 0us\n",
      "\n",
      "bestTest = 0.8514158258\n",
      "bestIteration = 73\n",
      "\n",
      "Shrink model to first 74 iterations.\n"
     ]
    },
    {
     "data": {
      "application/vnd.plotly.v1+json": {
       "config": {
        "plotlyServerURL": "https://plot.ly"
       },
       "data": [
        {
         "line": {
          "color": "rgb(51,160,44)"
         },
         "mode": "lines+markers",
         "name": "",
         "text": [
          "",
          "P1600_B",
          "P1230_E",
          "P1180_B",
          "P1300_B",
          "P1230_B",
          "P2200_E",
          "P1510_B",
          "P2210_E",
          "P1260_E",
          "P2340_E"
         ],
         "type": "scatter",
         "x": [
          0,
          1,
          2,
          3,
          4,
          5,
          6,
          7,
          8,
          9,
          10
         ],
         "y": [
          0.35980840763729915,
          0.3598559535388351,
          0.3598897825291733,
          0.3599117062112423,
          0.35992946073252624,
          0.35994380984190366,
          0.3599584991527983,
          0.3599681163386136,
          0.35997710794528,
          0.3599856662452828,
          0.3599940986666946
         ]
        },
        {
         "marker": {
          "size": 10,
          "symbol": "square"
         },
         "mode": "markers",
         "name": "",
         "text": [
          "",
          "P2340_E"
         ],
         "type": "scatter",
         "x": [
          0,
          10
         ],
         "y": [
          0.35980840763729915,
          0.3599940986666946
         ]
        },
        {
         "mode": "text",
         "name": "",
         "text": [
          "",
          "34",
          "25",
          "14",
          "48",
          "24",
          "85",
          "60",
          "81",
          "31",
          "93"
         ],
         "textfont": {
          "color": "rgb(51,160,44)",
          "family": "sans serif",
          "size": 18
         },
         "textposition": "bottom center",
         "type": "scatter",
         "visible": false,
         "x": [
          0,
          1,
          2,
          3,
          4,
          5,
          6,
          7,
          8,
          9,
          10
         ],
         "y": [
          0.35980840763729915,
          0.3598559535388351,
          0.3598897825291733,
          0.3599117062112423,
          0.35992946073252624,
          0.35994380984190366,
          0.3599584991527983,
          0.3599681163386136,
          0.35997710794528,
          0.3599856662452828,
          0.3599940986666946
         ]
        },
        {
         "mode": "text",
         "name": "",
         "text": [
          "",
          "P1600_B",
          "P1230_E",
          "P1180_B",
          "P1300_B",
          "P1230_B",
          "P2200_E",
          "P1510_B",
          "P2210_E",
          "P1260_E",
          "P2340_E"
         ],
         "textfont": {
          "color": "rgb(51,160,44)",
          "family": "sans serif",
          "size": 18
         },
         "textposition": "bottom center",
         "type": "scatter",
         "visible": false,
         "x": [
          0,
          1,
          2,
          3,
          4,
          5,
          6,
          7,
          8,
          9,
          10
         ],
         "y": [
          0.35980840763729915,
          0.3598559535388351,
          0.3598897825291733,
          0.3599117062112423,
          0.35992946073252624,
          0.35994380984190366,
          0.3599584991527983,
          0.3599681163386136,
          0.35997710794528,
          0.3599856662452828,
          0.3599940986666946
         ]
        }
       ],
       "layout": {
        "showlegend": false,
        "template": {
         "data": {
          "bar": [
           {
            "error_x": {
             "color": "#2a3f5f"
            },
            "error_y": {
             "color": "#2a3f5f"
            },
            "marker": {
             "line": {
              "color": "#E5ECF6",
              "width": 0.5
             },
             "pattern": {
              "fillmode": "overlay",
              "size": 10,
              "solidity": 0.2
             }
            },
            "type": "bar"
           }
          ],
          "barpolar": [
           {
            "marker": {
             "line": {
              "color": "#E5ECF6",
              "width": 0.5
             },
             "pattern": {
              "fillmode": "overlay",
              "size": 10,
              "solidity": 0.2
             }
            },
            "type": "barpolar"
           }
          ],
          "carpet": [
           {
            "aaxis": {
             "endlinecolor": "#2a3f5f",
             "gridcolor": "white",
             "linecolor": "white",
             "minorgridcolor": "white",
             "startlinecolor": "#2a3f5f"
            },
            "baxis": {
             "endlinecolor": "#2a3f5f",
             "gridcolor": "white",
             "linecolor": "white",
             "minorgridcolor": "white",
             "startlinecolor": "#2a3f5f"
            },
            "type": "carpet"
           }
          ],
          "choropleth": [
           {
            "colorbar": {
             "outlinewidth": 0,
             "ticks": ""
            },
            "type": "choropleth"
           }
          ],
          "contour": [
           {
            "colorbar": {
             "outlinewidth": 0,
             "ticks": ""
            },
            "colorscale": [
             [
              0,
              "#0d0887"
             ],
             [
              0.1111111111111111,
              "#46039f"
             ],
             [
              0.2222222222222222,
              "#7201a8"
             ],
             [
              0.3333333333333333,
              "#9c179e"
             ],
             [
              0.4444444444444444,
              "#bd3786"
             ],
             [
              0.5555555555555556,
              "#d8576b"
             ],
             [
              0.6666666666666666,
              "#ed7953"
             ],
             [
              0.7777777777777778,
              "#fb9f3a"
             ],
             [
              0.8888888888888888,
              "#fdca26"
             ],
             [
              1,
              "#f0f921"
             ]
            ],
            "type": "contour"
           }
          ],
          "contourcarpet": [
           {
            "colorbar": {
             "outlinewidth": 0,
             "ticks": ""
            },
            "type": "contourcarpet"
           }
          ],
          "heatmap": [
           {
            "colorbar": {
             "outlinewidth": 0,
             "ticks": ""
            },
            "colorscale": [
             [
              0,
              "#0d0887"
             ],
             [
              0.1111111111111111,
              "#46039f"
             ],
             [
              0.2222222222222222,
              "#7201a8"
             ],
             [
              0.3333333333333333,
              "#9c179e"
             ],
             [
              0.4444444444444444,
              "#bd3786"
             ],
             [
              0.5555555555555556,
              "#d8576b"
             ],
             [
              0.6666666666666666,
              "#ed7953"
             ],
             [
              0.7777777777777778,
              "#fb9f3a"
             ],
             [
              0.8888888888888888,
              "#fdca26"
             ],
             [
              1,
              "#f0f921"
             ]
            ],
            "type": "heatmap"
           }
          ],
          "heatmapgl": [
           {
            "colorbar": {
             "outlinewidth": 0,
             "ticks": ""
            },
            "colorscale": [
             [
              0,
              "#0d0887"
             ],
             [
              0.1111111111111111,
              "#46039f"
             ],
             [
              0.2222222222222222,
              "#7201a8"
             ],
             [
              0.3333333333333333,
              "#9c179e"
             ],
             [
              0.4444444444444444,
              "#bd3786"
             ],
             [
              0.5555555555555556,
              "#d8576b"
             ],
             [
              0.6666666666666666,
              "#ed7953"
             ],
             [
              0.7777777777777778,
              "#fb9f3a"
             ],
             [
              0.8888888888888888,
              "#fdca26"
             ],
             [
              1,
              "#f0f921"
             ]
            ],
            "type": "heatmapgl"
           }
          ],
          "histogram": [
           {
            "marker": {
             "pattern": {
              "fillmode": "overlay",
              "size": 10,
              "solidity": 0.2
             }
            },
            "type": "histogram"
           }
          ],
          "histogram2d": [
           {
            "colorbar": {
             "outlinewidth": 0,
             "ticks": ""
            },
            "colorscale": [
             [
              0,
              "#0d0887"
             ],
             [
              0.1111111111111111,
              "#46039f"
             ],
             [
              0.2222222222222222,
              "#7201a8"
             ],
             [
              0.3333333333333333,
              "#9c179e"
             ],
             [
              0.4444444444444444,
              "#bd3786"
             ],
             [
              0.5555555555555556,
              "#d8576b"
             ],
             [
              0.6666666666666666,
              "#ed7953"
             ],
             [
              0.7777777777777778,
              "#fb9f3a"
             ],
             [
              0.8888888888888888,
              "#fdca26"
             ],
             [
              1,
              "#f0f921"
             ]
            ],
            "type": "histogram2d"
           }
          ],
          "histogram2dcontour": [
           {
            "colorbar": {
             "outlinewidth": 0,
             "ticks": ""
            },
            "colorscale": [
             [
              0,
              "#0d0887"
             ],
             [
              0.1111111111111111,
              "#46039f"
             ],
             [
              0.2222222222222222,
              "#7201a8"
             ],
             [
              0.3333333333333333,
              "#9c179e"
             ],
             [
              0.4444444444444444,
              "#bd3786"
             ],
             [
              0.5555555555555556,
              "#d8576b"
             ],
             [
              0.6666666666666666,
              "#ed7953"
             ],
             [
              0.7777777777777778,
              "#fb9f3a"
             ],
             [
              0.8888888888888888,
              "#fdca26"
             ],
             [
              1,
              "#f0f921"
             ]
            ],
            "type": "histogram2dcontour"
           }
          ],
          "mesh3d": [
           {
            "colorbar": {
             "outlinewidth": 0,
             "ticks": ""
            },
            "type": "mesh3d"
           }
          ],
          "parcoords": [
           {
            "line": {
             "colorbar": {
              "outlinewidth": 0,
              "ticks": ""
             }
            },
            "type": "parcoords"
           }
          ],
          "pie": [
           {
            "automargin": true,
            "type": "pie"
           }
          ],
          "scatter": [
           {
            "fillpattern": {
             "fillmode": "overlay",
             "size": 10,
             "solidity": 0.2
            },
            "type": "scatter"
           }
          ],
          "scatter3d": [
           {
            "line": {
             "colorbar": {
              "outlinewidth": 0,
              "ticks": ""
             }
            },
            "marker": {
             "colorbar": {
              "outlinewidth": 0,
              "ticks": ""
             }
            },
            "type": "scatter3d"
           }
          ],
          "scattercarpet": [
           {
            "marker": {
             "colorbar": {
              "outlinewidth": 0,
              "ticks": ""
             }
            },
            "type": "scattercarpet"
           }
          ],
          "scattergeo": [
           {
            "marker": {
             "colorbar": {
              "outlinewidth": 0,
              "ticks": ""
             }
            },
            "type": "scattergeo"
           }
          ],
          "scattergl": [
           {
            "marker": {
             "colorbar": {
              "outlinewidth": 0,
              "ticks": ""
             }
            },
            "type": "scattergl"
           }
          ],
          "scattermapbox": [
           {
            "marker": {
             "colorbar": {
              "outlinewidth": 0,
              "ticks": ""
             }
            },
            "type": "scattermapbox"
           }
          ],
          "scatterpolar": [
           {
            "marker": {
             "colorbar": {
              "outlinewidth": 0,
              "ticks": ""
             }
            },
            "type": "scatterpolar"
           }
          ],
          "scatterpolargl": [
           {
            "marker": {
             "colorbar": {
              "outlinewidth": 0,
              "ticks": ""
             }
            },
            "type": "scatterpolargl"
           }
          ],
          "scatterternary": [
           {
            "marker": {
             "colorbar": {
              "outlinewidth": 0,
              "ticks": ""
             }
            },
            "type": "scatterternary"
           }
          ],
          "surface": [
           {
            "colorbar": {
             "outlinewidth": 0,
             "ticks": ""
            },
            "colorscale": [
             [
              0,
              "#0d0887"
             ],
             [
              0.1111111111111111,
              "#46039f"
             ],
             [
              0.2222222222222222,
              "#7201a8"
             ],
             [
              0.3333333333333333,
              "#9c179e"
             ],
             [
              0.4444444444444444,
              "#bd3786"
             ],
             [
              0.5555555555555556,
              "#d8576b"
             ],
             [
              0.6666666666666666,
              "#ed7953"
             ],
             [
              0.7777777777777778,
              "#fb9f3a"
             ],
             [
              0.8888888888888888,
              "#fdca26"
             ],
             [
              1,
              "#f0f921"
             ]
            ],
            "type": "surface"
           }
          ],
          "table": [
           {
            "cells": {
             "fill": {
              "color": "#EBF0F8"
             },
             "line": {
              "color": "white"
             }
            },
            "header": {
             "fill": {
              "color": "#C8D4E3"
             },
             "line": {
              "color": "white"
             }
            },
            "type": "table"
           }
          ]
         },
         "layout": {
          "annotationdefaults": {
           "arrowcolor": "#2a3f5f",
           "arrowhead": 0,
           "arrowwidth": 1
          },
          "autotypenumbers": "strict",
          "coloraxis": {
           "colorbar": {
            "outlinewidth": 0,
            "ticks": ""
           }
          },
          "colorscale": {
           "diverging": [
            [
             0,
             "#8e0152"
            ],
            [
             0.1,
             "#c51b7d"
            ],
            [
             0.2,
             "#de77ae"
            ],
            [
             0.3,
             "#f1b6da"
            ],
            [
             0.4,
             "#fde0ef"
            ],
            [
             0.5,
             "#f7f7f7"
            ],
            [
             0.6,
             "#e6f5d0"
            ],
            [
             0.7,
             "#b8e186"
            ],
            [
             0.8,
             "#7fbc41"
            ],
            [
             0.9,
             "#4d9221"
            ],
            [
             1,
             "#276419"
            ]
           ],
           "sequential": [
            [
             0,
             "#0d0887"
            ],
            [
             0.1111111111111111,
             "#46039f"
            ],
            [
             0.2222222222222222,
             "#7201a8"
            ],
            [
             0.3333333333333333,
             "#9c179e"
            ],
            [
             0.4444444444444444,
             "#bd3786"
            ],
            [
             0.5555555555555556,
             "#d8576b"
            ],
            [
             0.6666666666666666,
             "#ed7953"
            ],
            [
             0.7777777777777778,
             "#fb9f3a"
            ],
            [
             0.8888888888888888,
             "#fdca26"
            ],
            [
             1,
             "#f0f921"
            ]
           ],
           "sequentialminus": [
            [
             0,
             "#0d0887"
            ],
            [
             0.1111111111111111,
             "#46039f"
            ],
            [
             0.2222222222222222,
             "#7201a8"
            ],
            [
             0.3333333333333333,
             "#9c179e"
            ],
            [
             0.4444444444444444,
             "#bd3786"
            ],
            [
             0.5555555555555556,
             "#d8576b"
            ],
            [
             0.6666666666666666,
             "#ed7953"
            ],
            [
             0.7777777777777778,
             "#fb9f3a"
            ],
            [
             0.8888888888888888,
             "#fdca26"
            ],
            [
             1,
             "#f0f921"
            ]
           ]
          },
          "colorway": [
           "#636efa",
           "#EF553B",
           "#00cc96",
           "#ab63fa",
           "#FFA15A",
           "#19d3f3",
           "#FF6692",
           "#B6E880",
           "#FF97FF",
           "#FECB52"
          ],
          "font": {
           "color": "#2a3f5f"
          },
          "geo": {
           "bgcolor": "white",
           "lakecolor": "white",
           "landcolor": "#E5ECF6",
           "showlakes": true,
           "showland": true,
           "subunitcolor": "white"
          },
          "hoverlabel": {
           "align": "left"
          },
          "hovermode": "closest",
          "mapbox": {
           "style": "light"
          },
          "paper_bgcolor": "white",
          "plot_bgcolor": "#E5ECF6",
          "polar": {
           "angularaxis": {
            "gridcolor": "white",
            "linecolor": "white",
            "ticks": ""
           },
           "bgcolor": "#E5ECF6",
           "radialaxis": {
            "gridcolor": "white",
            "linecolor": "white",
            "ticks": ""
           }
          },
          "scene": {
           "xaxis": {
            "backgroundcolor": "#E5ECF6",
            "gridcolor": "white",
            "gridwidth": 2,
            "linecolor": "white",
            "showbackground": true,
            "ticks": "",
            "zerolinecolor": "white"
           },
           "yaxis": {
            "backgroundcolor": "#E5ECF6",
            "gridcolor": "white",
            "gridwidth": 2,
            "linecolor": "white",
            "showbackground": true,
            "ticks": "",
            "zerolinecolor": "white"
           },
           "zaxis": {
            "backgroundcolor": "#E5ECF6",
            "gridcolor": "white",
            "gridwidth": 2,
            "linecolor": "white",
            "showbackground": true,
            "ticks": "",
            "zerolinecolor": "white"
           }
          },
          "shapedefaults": {
           "line": {
            "color": "#2a3f5f"
           }
          },
          "ternary": {
           "aaxis": {
            "gridcolor": "white",
            "linecolor": "white",
            "ticks": ""
           },
           "baxis": {
            "gridcolor": "white",
            "linecolor": "white",
            "ticks": ""
           },
           "bgcolor": "#E5ECF6",
           "caxis": {
            "gridcolor": "white",
            "linecolor": "white",
            "ticks": ""
           }
          },
          "title": {
           "x": 0.05
          },
          "xaxis": {
           "automargin": true,
           "gridcolor": "white",
           "linecolor": "white",
           "ticks": "",
           "title": {
            "standoff": 15
           },
           "zerolinecolor": "white",
           "zerolinewidth": 2
          },
          "yaxis": {
           "automargin": true,
           "gridcolor": "white",
           "linecolor": "white",
           "ticks": "",
           "title": {
            "standoff": 15
           },
           "zerolinecolor": "white",
           "zerolinewidth": 2
          }
         }
        },
        "title": {
         "text": "Loss by eliminated features"
        },
        "updatemenus": [
         {
          "active": 0,
          "buttons": [
           {
            "args": [
             {
              "visible": [
               true,
               true,
               false,
               false
              ]
             }
            ],
            "label": "Hide features",
            "method": "update"
           },
           {
            "args": [
             {
              "visible": [
               true,
               true,
               true,
               false
              ]
             }
            ],
            "label": "Show indices",
            "method": "update"
           },
           {
            "args": [
             {
              "visible": [
               true,
               true,
               false,
               true
              ]
             }
            ],
            "label": "Show names",
            "method": "update"
           }
          ],
          "pad": {
           "r": 10,
           "t": 10
          },
          "showactive": true,
          "x": -0.25,
          "xanchor": "left",
          "y": 1.03,
          "yanchor": "top"
         }
        ],
        "xaxis": {
         "gridcolor": "rgb(255,255,255)",
         "showgrid": true,
         "showline": false,
         "showticklabels": true,
         "tickcolor": "rgb(127,127,127)",
         "ticks": "outside",
         "title": {
          "text": "number of removed features"
         },
         "zeroline": false
        },
        "yaxis": {
         "gridcolor": "rgb(255,255,255)",
         "showgrid": true,
         "showline": false,
         "showticklabels": true,
         "tickcolor": "rgb(127,127,127)",
         "tickfont": {
          "color": "rgb(51,160,44)"
         },
         "ticks": "outside",
         "title": {
          "font": {
           "color": "rgb(51,160,44)"
          },
          "text": "loss value"
         },
         "zeroline": false
        }
       }
      }
     },
     "metadata": {},
     "output_type": "display_data"
    },
    {
     "data": {
      "text/plain": [
       "{'selected_features': [0,\n",
       "  1,\n",
       "  2,\n",
       "  3,\n",
       "  4,\n",
       "  5,\n",
       "  6,\n",
       "  7,\n",
       "  8,\n",
       "  9,\n",
       "  10,\n",
       "  11,\n",
       "  12,\n",
       "  13,\n",
       "  15,\n",
       "  16,\n",
       "  17,\n",
       "  18,\n",
       "  19,\n",
       "  20,\n",
       "  21,\n",
       "  22,\n",
       "  23,\n",
       "  26,\n",
       "  27,\n",
       "  28,\n",
       "  29,\n",
       "  30,\n",
       "  32,\n",
       "  33,\n",
       "  35,\n",
       "  36,\n",
       "  37,\n",
       "  38,\n",
       "  39,\n",
       "  40,\n",
       "  41,\n",
       "  42,\n",
       "  43,\n",
       "  44,\n",
       "  45,\n",
       "  46,\n",
       "  47,\n",
       "  49,\n",
       "  50,\n",
       "  51,\n",
       "  52,\n",
       "  53,\n",
       "  54,\n",
       "  55,\n",
       "  56,\n",
       "  57,\n",
       "  58,\n",
       "  59,\n",
       "  61,\n",
       "  62,\n",
       "  63,\n",
       "  64,\n",
       "  65,\n",
       "  66,\n",
       "  67,\n",
       "  68,\n",
       "  69,\n",
       "  70,\n",
       "  71,\n",
       "  72,\n",
       "  73,\n",
       "  74,\n",
       "  75,\n",
       "  76,\n",
       "  77,\n",
       "  78,\n",
       "  79,\n",
       "  80,\n",
       "  82,\n",
       "  83,\n",
       "  84,\n",
       "  86,\n",
       "  87,\n",
       "  88,\n",
       "  89,\n",
       "  90,\n",
       "  91,\n",
       "  92,\n",
       "  94,\n",
       "  95,\n",
       "  96,\n",
       "  97,\n",
       "  98,\n",
       "  99,\n",
       "  100,\n",
       "  101,\n",
       "  102,\n",
       "  103,\n",
       "  104,\n",
       "  105,\n",
       "  106,\n",
       "  107,\n",
       "  108,\n",
       "  109],\n",
       " 'eliminated_features_names': ['P1600_B',\n",
       "  'P1230_E',\n",
       "  'P1180_B',\n",
       "  'P1300_B',\n",
       "  'P1230_B',\n",
       "  'P2200_E',\n",
       "  'P1510_B',\n",
       "  'P2210_E',\n",
       "  'P1260_E',\n",
       "  'P2340_E'],\n",
       " 'loss_graph': {'main_indices': [0, 10],\n",
       "  'removed_features_count': [0, 1, 2, 3, 4, 5, 6, 7, 8, 9, 10],\n",
       "  'loss_values': [0.35980840763729915,\n",
       "   0.3598559535388351,\n",
       "   0.3598897825291733,\n",
       "   0.3599117062112423,\n",
       "   0.35992946073252624,\n",
       "   0.35994380984190366,\n",
       "   0.3599584991527983,\n",
       "   0.3599681163386136,\n",
       "   0.35997710794528,\n",
       "   0.3599856662452828,\n",
       "   0.3599940986666946]},\n",
       " 'eliminated_features': [34, 25, 14, 48, 24, 85, 60, 81, 31, 93],\n",
       " 'selected_features_names': ['P1110_B',\n",
       "  'P1110_E',\n",
       "  'P1120_B',\n",
       "  'P1120_E',\n",
       "  'P1130_B',\n",
       "  'P1130_E',\n",
       "  'P1140_B',\n",
       "  'P1140_E',\n",
       "  'P1150_B',\n",
       "  'P1150_E',\n",
       "  'P1160_B',\n",
       "  'P1160_E',\n",
       "  'P1170_B',\n",
       "  'P1170_E',\n",
       "  'P1180_E',\n",
       "  'P1190_B',\n",
       "  'P1190_E',\n",
       "  'P1100_B',\n",
       "  'P1100_E',\n",
       "  'P1210_B',\n",
       "  'P1210_E',\n",
       "  'P1220_B',\n",
       "  'P1220_E',\n",
       "  'P1240_B',\n",
       "  'P1240_E',\n",
       "  'P1250_B',\n",
       "  'P1250_E',\n",
       "  'P1260_B',\n",
       "  'P1200_B',\n",
       "  'P1200_E',\n",
       "  'P1600_E',\n",
       "  'P1310_B',\n",
       "  'P1310_E',\n",
       "  'P1320_B',\n",
       "  'P1320_E',\n",
       "  'P1340_B',\n",
       "  'P1340_E',\n",
       "  'P1350_B',\n",
       "  'P1350_E',\n",
       "  'P1360_B',\n",
       "  'P1360_E',\n",
       "  'P1370_B',\n",
       "  'P1370_E',\n",
       "  'P1300_E',\n",
       "  'P1410_B',\n",
       "  'P1410_E',\n",
       "  'P1420_B',\n",
       "  'P1420_E',\n",
       "  'P1430_B',\n",
       "  'P1430_E',\n",
       "  'P1450_B',\n",
       "  'P1450_E',\n",
       "  'P1400_B',\n",
       "  'P1400_E',\n",
       "  'P1510_E',\n",
       "  'P1520_B',\n",
       "  'P1520_E',\n",
       "  'P1530_B',\n",
       "  'P1530_E',\n",
       "  'P1540_B',\n",
       "  'P1540_E',\n",
       "  'P1550_B',\n",
       "  'P1550_E',\n",
       "  'P1500_B',\n",
       "  'P1500_E',\n",
       "  'P1700_B',\n",
       "  'P1700_E',\n",
       "  'P2110_B',\n",
       "  'P2110_E',\n",
       "  'P2120_B',\n",
       "  'P2120_E',\n",
       "  'P2100_B',\n",
       "  'P2100_E',\n",
       "  'P2210_B',\n",
       "  'P2220_B',\n",
       "  'P2220_E',\n",
       "  'P2200_B',\n",
       "  'P2310_B',\n",
       "  'P2310_E',\n",
       "  'P2320_B',\n",
       "  'P2320_E',\n",
       "  'P2330_B',\n",
       "  'P2330_E',\n",
       "  'P2340_B',\n",
       "  'P2350_B',\n",
       "  'P2350_E',\n",
       "  'P2300_B',\n",
       "  'P2300_E',\n",
       "  'P2410_B',\n",
       "  'P2410_E',\n",
       "  'P2421_B',\n",
       "  'P2421_E',\n",
       "  'P2430_B',\n",
       "  'P2430_E',\n",
       "  'P2450_B',\n",
       "  'P2450_E',\n",
       "  'P2460_B',\n",
       "  'P2460_E',\n",
       "  'P2400_B',\n",
       "  'P2400_E']}"
      ]
     },
     "execution_count": 34,
     "metadata": {},
     "output_type": "execute_result"
    }
   ],
   "source": [
    "model.select_features(\n",
    "    X=X_train,\n",
    "    y=y_train,\n",
    "    features_for_select=sel_feat,\n",
    "    num_features_to_select=100,\n",
    "    eval_set=(X_val, y_val),\n",
    "    plot=True, \n",
    "    train_final_model=True\n",
    ")"
   ]
  },
  {
   "cell_type": "code",
   "execution_count": 35,
   "metadata": {},
   "outputs": [
    {
     "data": {
      "text/plain": [
       "0.8514158257592023"
      ]
     },
     "execution_count": 35,
     "metadata": {},
     "output_type": "execute_result"
    }
   ],
   "source": [
    "y_pred = model.predict(X_val)\n",
    "sklearn.metrics.roc_auc_score(y_val, y_pred)"
   ]
  },
  {
   "cell_type": "code",
   "execution_count": 36,
   "metadata": {},
   "outputs": [
    {
     "data": {
      "application/vnd.jupyter.widget-view+json": {
       "model_id": "ed8119be4b8246d49898950e6c4e73a3",
       "version_major": 2,
       "version_minor": 0
      },
      "text/plain": [
       "MetricVisualizer(layout=Layout(align_self='stretch', height='500px'))"
      ]
     },
     "metadata": {},
     "output_type": "display_data"
    },
    {
     "data": {
      "text/plain": [
       "<catboost.core.CatBoostClassifier at 0x7fcb32f92730>"
      ]
     },
     "execution_count": 36,
     "metadata": {},
     "output_type": "execute_result"
    }
   ],
   "source": [
    "model2.fit(X_train,\n",
    "           y_train,\n",
    "           verbose=False,\n",
    "           eval_set=(X_val, y_val),\n",
    "           plot=True)\n"
   ]
  },
  {
   "cell_type": "code",
   "execution_count": 37,
   "metadata": {},
   "outputs": [],
   "source": [
    "y_pred1 = model.predict(test)\n",
    "y_pred2 = model2.predict(test)"
   ]
  },
  {
   "cell_type": "code",
   "execution_count": 38,
   "metadata": {},
   "outputs": [
    {
     "data": {
      "text/plain": [
       "314259"
      ]
     },
     "execution_count": 38,
     "metadata": {},
     "output_type": "execute_result"
    }
   ],
   "source": [
    "len(y_pred1)"
   ]
  },
  {
   "cell_type": "code",
   "execution_count": 39,
   "metadata": {},
   "outputs": [
    {
     "data": {
      "text/plain": [
       "314259"
      ]
     },
     "execution_count": 39,
     "metadata": {},
     "output_type": "execute_result"
    }
   ],
   "source": [
    "len(y_pred2)"
   ]
  },
  {
   "cell_type": "code",
   "execution_count": 41,
   "metadata": {},
   "outputs": [
    {
     "name": "stdout",
     "output_type": "stream",
     "text": [
      "961 604\n"
     ]
    }
   ],
   "source": [
    "y_pred1 = model.predict(test)\n",
    "cnt1 = 0\n",
    "cnt0 = 0\n",
    "for y in y_pred:\n",
    "  if y == 0: cnt0+=1\n",
    "  else: cnt1+=1\n",
    "\n",
    "print(cnt0, cnt1)"
   ]
  },
  {
   "cell_type": "code",
   "execution_count": 42,
   "metadata": {},
   "outputs": [],
   "source": [
    "submission_df = pd.DataFrame({'ID_FIRM': test['ID_FIRM'], 'BANKR': y_pred1})\n",
    "submission_df.to_csv('submission1.csv', index=False)\n",
    "\n",
    "submission_df = pd.DataFrame({'ID_FIRM': test['ID_FIRM'], 'BANKR': y_pred2})\n",
    "submission_df.to_csv('submission2.csv', index=False)"
   ]
  }
 ],
 "metadata": {
  "kernelspec": {
   "display_name": "base",
   "language": "python",
   "name": "python3"
  },
  "language_info": {
   "codemirror_mode": {
    "name": "ipython",
    "version": 3
   },
   "file_extension": ".py",
   "mimetype": "text/x-python",
   "name": "python",
   "nbconvert_exporter": "python",
   "pygments_lexer": "ipython3",
   "version": "3.9.13"
  },
  "orig_nbformat": 4
 },
 "nbformat": 4,
 "nbformat_minor": 2
}
